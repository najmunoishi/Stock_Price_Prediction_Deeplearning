{
  "cells": [
    {
      "cell_type": "code",
      "execution_count": 1,
      "metadata": {
        "colab": {
          "base_uri": "https://localhost:8080/",
          "height": 363
        },
        "id": "fOztXio8EDec",
        "outputId": "b52fb3e8-f412-42c5-d067-313f1a859705"
      },
      "outputs": [
        {
          "output_type": "error",
          "ename": "FileNotFoundError",
          "evalue": "ignored",
          "traceback": [
            "\u001b[0;31m---------------------------------------------------------------------------\u001b[0m",
            "\u001b[0;31mFileNotFoundError\u001b[0m                         Traceback (most recent call last)",
            "\u001b[0;32m<ipython-input-1-48334bc51d7c>\u001b[0m in \u001b[0;36m<module>\u001b[0;34m()\u001b[0m\n\u001b[1;32m      1\u001b[0m \u001b[0;32mimport\u001b[0m \u001b[0mpandas\u001b[0m \u001b[0;32mas\u001b[0m \u001b[0mpd\u001b[0m\u001b[0;34m\u001b[0m\u001b[0;34m\u001b[0m\u001b[0m\n\u001b[0;32m----> 2\u001b[0;31m \u001b[0mdf\u001b[0m\u001b[0;34m=\u001b[0m\u001b[0mpd\u001b[0m\u001b[0;34m.\u001b[0m\u001b[0mread_csv\u001b[0m\u001b[0;34m(\u001b[0m\u001b[0;34m'/content/all_stocks_5yr.csv'\u001b[0m\u001b[0;34m)\u001b[0m\u001b[0;34m\u001b[0m\u001b[0;34m\u001b[0m\u001b[0m\n\u001b[0m\u001b[1;32m      3\u001b[0m \u001b[0mdf\u001b[0m\u001b[0;34m.\u001b[0m\u001b[0mhead\u001b[0m\u001b[0;34m(\u001b[0m\u001b[0;34m)\u001b[0m\u001b[0;34m\u001b[0m\u001b[0;34m\u001b[0m\u001b[0m\n",
            "\u001b[0;32m/usr/local/lib/python3.7/dist-packages/pandas/util/_decorators.py\u001b[0m in \u001b[0;36mwrapper\u001b[0;34m(*args, **kwargs)\u001b[0m\n\u001b[1;32m    309\u001b[0m                     \u001b[0mstacklevel\u001b[0m\u001b[0;34m=\u001b[0m\u001b[0mstacklevel\u001b[0m\u001b[0;34m,\u001b[0m\u001b[0;34m\u001b[0m\u001b[0;34m\u001b[0m\u001b[0m\n\u001b[1;32m    310\u001b[0m                 )\n\u001b[0;32m--> 311\u001b[0;31m             \u001b[0;32mreturn\u001b[0m \u001b[0mfunc\u001b[0m\u001b[0;34m(\u001b[0m\u001b[0;34m*\u001b[0m\u001b[0margs\u001b[0m\u001b[0;34m,\u001b[0m \u001b[0;34m**\u001b[0m\u001b[0mkwargs\u001b[0m\u001b[0;34m)\u001b[0m\u001b[0;34m\u001b[0m\u001b[0;34m\u001b[0m\u001b[0m\n\u001b[0m\u001b[1;32m    312\u001b[0m \u001b[0;34m\u001b[0m\u001b[0m\n\u001b[1;32m    313\u001b[0m         \u001b[0;32mreturn\u001b[0m \u001b[0mwrapper\u001b[0m\u001b[0;34m\u001b[0m\u001b[0;34m\u001b[0m\u001b[0m\n",
            "\u001b[0;32m/usr/local/lib/python3.7/dist-packages/pandas/io/parsers/readers.py\u001b[0m in \u001b[0;36mread_csv\u001b[0;34m(filepath_or_buffer, sep, delimiter, header, names, index_col, usecols, squeeze, prefix, mangle_dupe_cols, dtype, engine, converters, true_values, false_values, skipinitialspace, skiprows, skipfooter, nrows, na_values, keep_default_na, na_filter, verbose, skip_blank_lines, parse_dates, infer_datetime_format, keep_date_col, date_parser, dayfirst, cache_dates, iterator, chunksize, compression, thousands, decimal, lineterminator, quotechar, quoting, doublequote, escapechar, comment, encoding, encoding_errors, dialect, error_bad_lines, warn_bad_lines, on_bad_lines, delim_whitespace, low_memory, memory_map, float_precision, storage_options)\u001b[0m\n\u001b[1;32m    584\u001b[0m     \u001b[0mkwds\u001b[0m\u001b[0;34m.\u001b[0m\u001b[0mupdate\u001b[0m\u001b[0;34m(\u001b[0m\u001b[0mkwds_defaults\u001b[0m\u001b[0;34m)\u001b[0m\u001b[0;34m\u001b[0m\u001b[0;34m\u001b[0m\u001b[0m\n\u001b[1;32m    585\u001b[0m \u001b[0;34m\u001b[0m\u001b[0m\n\u001b[0;32m--> 586\u001b[0;31m     \u001b[0;32mreturn\u001b[0m \u001b[0m_read\u001b[0m\u001b[0;34m(\u001b[0m\u001b[0mfilepath_or_buffer\u001b[0m\u001b[0;34m,\u001b[0m \u001b[0mkwds\u001b[0m\u001b[0;34m)\u001b[0m\u001b[0;34m\u001b[0m\u001b[0;34m\u001b[0m\u001b[0m\n\u001b[0m\u001b[1;32m    587\u001b[0m \u001b[0;34m\u001b[0m\u001b[0m\n\u001b[1;32m    588\u001b[0m \u001b[0;34m\u001b[0m\u001b[0m\n",
            "\u001b[0;32m/usr/local/lib/python3.7/dist-packages/pandas/io/parsers/readers.py\u001b[0m in \u001b[0;36m_read\u001b[0;34m(filepath_or_buffer, kwds)\u001b[0m\n\u001b[1;32m    480\u001b[0m \u001b[0;34m\u001b[0m\u001b[0m\n\u001b[1;32m    481\u001b[0m     \u001b[0;31m# Create the parser.\u001b[0m\u001b[0;34m\u001b[0m\u001b[0;34m\u001b[0m\u001b[0;34m\u001b[0m\u001b[0m\n\u001b[0;32m--> 482\u001b[0;31m     \u001b[0mparser\u001b[0m \u001b[0;34m=\u001b[0m \u001b[0mTextFileReader\u001b[0m\u001b[0;34m(\u001b[0m\u001b[0mfilepath_or_buffer\u001b[0m\u001b[0;34m,\u001b[0m \u001b[0;34m**\u001b[0m\u001b[0mkwds\u001b[0m\u001b[0;34m)\u001b[0m\u001b[0;34m\u001b[0m\u001b[0;34m\u001b[0m\u001b[0m\n\u001b[0m\u001b[1;32m    483\u001b[0m \u001b[0;34m\u001b[0m\u001b[0m\n\u001b[1;32m    484\u001b[0m     \u001b[0;32mif\u001b[0m \u001b[0mchunksize\u001b[0m \u001b[0;32mor\u001b[0m \u001b[0miterator\u001b[0m\u001b[0;34m:\u001b[0m\u001b[0;34m\u001b[0m\u001b[0;34m\u001b[0m\u001b[0m\n",
            "\u001b[0;32m/usr/local/lib/python3.7/dist-packages/pandas/io/parsers/readers.py\u001b[0m in \u001b[0;36m__init__\u001b[0;34m(self, f, engine, **kwds)\u001b[0m\n\u001b[1;32m    809\u001b[0m             \u001b[0mself\u001b[0m\u001b[0;34m.\u001b[0m\u001b[0moptions\u001b[0m\u001b[0;34m[\u001b[0m\u001b[0;34m\"has_index_names\"\u001b[0m\u001b[0;34m]\u001b[0m \u001b[0;34m=\u001b[0m \u001b[0mkwds\u001b[0m\u001b[0;34m[\u001b[0m\u001b[0;34m\"has_index_names\"\u001b[0m\u001b[0;34m]\u001b[0m\u001b[0;34m\u001b[0m\u001b[0;34m\u001b[0m\u001b[0m\n\u001b[1;32m    810\u001b[0m \u001b[0;34m\u001b[0m\u001b[0m\n\u001b[0;32m--> 811\u001b[0;31m         \u001b[0mself\u001b[0m\u001b[0;34m.\u001b[0m\u001b[0m_engine\u001b[0m \u001b[0;34m=\u001b[0m \u001b[0mself\u001b[0m\u001b[0;34m.\u001b[0m\u001b[0m_make_engine\u001b[0m\u001b[0;34m(\u001b[0m\u001b[0mself\u001b[0m\u001b[0;34m.\u001b[0m\u001b[0mengine\u001b[0m\u001b[0;34m)\u001b[0m\u001b[0;34m\u001b[0m\u001b[0;34m\u001b[0m\u001b[0m\n\u001b[0m\u001b[1;32m    812\u001b[0m \u001b[0;34m\u001b[0m\u001b[0m\n\u001b[1;32m    813\u001b[0m     \u001b[0;32mdef\u001b[0m \u001b[0mclose\u001b[0m\u001b[0;34m(\u001b[0m\u001b[0mself\u001b[0m\u001b[0;34m)\u001b[0m\u001b[0;34m:\u001b[0m\u001b[0;34m\u001b[0m\u001b[0;34m\u001b[0m\u001b[0m\n",
            "\u001b[0;32m/usr/local/lib/python3.7/dist-packages/pandas/io/parsers/readers.py\u001b[0m in \u001b[0;36m_make_engine\u001b[0;34m(self, engine)\u001b[0m\n\u001b[1;32m   1038\u001b[0m             )\n\u001b[1;32m   1039\u001b[0m         \u001b[0;31m# error: Too many arguments for \"ParserBase\"\u001b[0m\u001b[0;34m\u001b[0m\u001b[0;34m\u001b[0m\u001b[0;34m\u001b[0m\u001b[0m\n\u001b[0;32m-> 1040\u001b[0;31m         \u001b[0;32mreturn\u001b[0m \u001b[0mmapping\u001b[0m\u001b[0;34m[\u001b[0m\u001b[0mengine\u001b[0m\u001b[0;34m]\u001b[0m\u001b[0;34m(\u001b[0m\u001b[0mself\u001b[0m\u001b[0;34m.\u001b[0m\u001b[0mf\u001b[0m\u001b[0;34m,\u001b[0m \u001b[0;34m**\u001b[0m\u001b[0mself\u001b[0m\u001b[0;34m.\u001b[0m\u001b[0moptions\u001b[0m\u001b[0;34m)\u001b[0m  \u001b[0;31m# type: ignore[call-arg]\u001b[0m\u001b[0;34m\u001b[0m\u001b[0;34m\u001b[0m\u001b[0m\n\u001b[0m\u001b[1;32m   1041\u001b[0m \u001b[0;34m\u001b[0m\u001b[0m\n\u001b[1;32m   1042\u001b[0m     \u001b[0;32mdef\u001b[0m \u001b[0m_failover_to_python\u001b[0m\u001b[0;34m(\u001b[0m\u001b[0mself\u001b[0m\u001b[0;34m)\u001b[0m\u001b[0;34m:\u001b[0m\u001b[0;34m\u001b[0m\u001b[0;34m\u001b[0m\u001b[0m\n",
            "\u001b[0;32m/usr/local/lib/python3.7/dist-packages/pandas/io/parsers/c_parser_wrapper.py\u001b[0m in \u001b[0;36m__init__\u001b[0;34m(self, src, **kwds)\u001b[0m\n\u001b[1;32m     49\u001b[0m \u001b[0;34m\u001b[0m\u001b[0m\n\u001b[1;32m     50\u001b[0m         \u001b[0;31m# open handles\u001b[0m\u001b[0;34m\u001b[0m\u001b[0;34m\u001b[0m\u001b[0;34m\u001b[0m\u001b[0m\n\u001b[0;32m---> 51\u001b[0;31m         \u001b[0mself\u001b[0m\u001b[0;34m.\u001b[0m\u001b[0m_open_handles\u001b[0m\u001b[0;34m(\u001b[0m\u001b[0msrc\u001b[0m\u001b[0;34m,\u001b[0m \u001b[0mkwds\u001b[0m\u001b[0;34m)\u001b[0m\u001b[0;34m\u001b[0m\u001b[0;34m\u001b[0m\u001b[0m\n\u001b[0m\u001b[1;32m     52\u001b[0m         \u001b[0;32massert\u001b[0m \u001b[0mself\u001b[0m\u001b[0;34m.\u001b[0m\u001b[0mhandles\u001b[0m \u001b[0;32mis\u001b[0m \u001b[0;32mnot\u001b[0m \u001b[0;32mNone\u001b[0m\u001b[0;34m\u001b[0m\u001b[0;34m\u001b[0m\u001b[0m\n\u001b[1;32m     53\u001b[0m \u001b[0;34m\u001b[0m\u001b[0m\n",
            "\u001b[0;32m/usr/local/lib/python3.7/dist-packages/pandas/io/parsers/base_parser.py\u001b[0m in \u001b[0;36m_open_handles\u001b[0;34m(self, src, kwds)\u001b[0m\n\u001b[1;32m    227\u001b[0m             \u001b[0mmemory_map\u001b[0m\u001b[0;34m=\u001b[0m\u001b[0mkwds\u001b[0m\u001b[0;34m.\u001b[0m\u001b[0mget\u001b[0m\u001b[0;34m(\u001b[0m\u001b[0;34m\"memory_map\"\u001b[0m\u001b[0;34m,\u001b[0m \u001b[0;32mFalse\u001b[0m\u001b[0;34m)\u001b[0m\u001b[0;34m,\u001b[0m\u001b[0;34m\u001b[0m\u001b[0;34m\u001b[0m\u001b[0m\n\u001b[1;32m    228\u001b[0m             \u001b[0mstorage_options\u001b[0m\u001b[0;34m=\u001b[0m\u001b[0mkwds\u001b[0m\u001b[0;34m.\u001b[0m\u001b[0mget\u001b[0m\u001b[0;34m(\u001b[0m\u001b[0;34m\"storage_options\"\u001b[0m\u001b[0;34m,\u001b[0m \u001b[0;32mNone\u001b[0m\u001b[0;34m)\u001b[0m\u001b[0;34m,\u001b[0m\u001b[0;34m\u001b[0m\u001b[0;34m\u001b[0m\u001b[0m\n\u001b[0;32m--> 229\u001b[0;31m             \u001b[0merrors\u001b[0m\u001b[0;34m=\u001b[0m\u001b[0mkwds\u001b[0m\u001b[0;34m.\u001b[0m\u001b[0mget\u001b[0m\u001b[0;34m(\u001b[0m\u001b[0;34m\"encoding_errors\"\u001b[0m\u001b[0;34m,\u001b[0m \u001b[0;34m\"strict\"\u001b[0m\u001b[0;34m)\u001b[0m\u001b[0;34m,\u001b[0m\u001b[0;34m\u001b[0m\u001b[0;34m\u001b[0m\u001b[0m\n\u001b[0m\u001b[1;32m    230\u001b[0m         )\n\u001b[1;32m    231\u001b[0m \u001b[0;34m\u001b[0m\u001b[0m\n",
            "\u001b[0;32m/usr/local/lib/python3.7/dist-packages/pandas/io/common.py\u001b[0m in \u001b[0;36mget_handle\u001b[0;34m(path_or_buf, mode, encoding, compression, memory_map, is_text, errors, storage_options)\u001b[0m\n\u001b[1;32m    705\u001b[0m                 \u001b[0mencoding\u001b[0m\u001b[0;34m=\u001b[0m\u001b[0mioargs\u001b[0m\u001b[0;34m.\u001b[0m\u001b[0mencoding\u001b[0m\u001b[0;34m,\u001b[0m\u001b[0;34m\u001b[0m\u001b[0;34m\u001b[0m\u001b[0m\n\u001b[1;32m    706\u001b[0m                 \u001b[0merrors\u001b[0m\u001b[0;34m=\u001b[0m\u001b[0merrors\u001b[0m\u001b[0;34m,\u001b[0m\u001b[0;34m\u001b[0m\u001b[0;34m\u001b[0m\u001b[0m\n\u001b[0;32m--> 707\u001b[0;31m                 \u001b[0mnewline\u001b[0m\u001b[0;34m=\u001b[0m\u001b[0;34m\"\"\u001b[0m\u001b[0;34m,\u001b[0m\u001b[0;34m\u001b[0m\u001b[0;34m\u001b[0m\u001b[0m\n\u001b[0m\u001b[1;32m    708\u001b[0m             )\n\u001b[1;32m    709\u001b[0m         \u001b[0;32melse\u001b[0m\u001b[0;34m:\u001b[0m\u001b[0;34m\u001b[0m\u001b[0;34m\u001b[0m\u001b[0m\n",
            "\u001b[0;31mFileNotFoundError\u001b[0m: [Errno 2] No such file or directory: '/content/all_stocks_5yr.csv'"
          ]
        }
      ],
      "source": [
        "import pandas as pd\n",
        "df=pd.read_csv('/content/all_stocks_5yr.csv')\n",
        "df.head()"
      ]
    },
    {
      "cell_type": "code",
      "execution_count": null,
      "metadata": {
        "id": "4mjgqRoTFw20"
      },
      "outputs": [],
      "source": [
        "from google.colab import drive\n",
        "drive.mount('/content/drive')"
      ]
    },
    {
      "cell_type": "code",
      "execution_count": null,
      "metadata": {
        "colab": {
          "base_uri": "https://localhost:8080/",
          "height": 206
        },
        "id": "Z3TkLn53F5F7",
        "outputId": "d11dda34-21e6-4fb5-a42e-23f7dee8f2fc"
      },
      "outputs": [
        {
          "data": {
            "text/html": [
              "\n",
              "  <div id=\"df-e08018c9-d17f-4368-bbc5-abec899fbd76\">\n",
              "    <div class=\"colab-df-container\">\n",
              "      <div>\n",
              "<style scoped>\n",
              "    .dataframe tbody tr th:only-of-type {\n",
              "        vertical-align: middle;\n",
              "    }\n",
              "\n",
              "    .dataframe tbody tr th {\n",
              "        vertical-align: top;\n",
              "    }\n",
              "\n",
              "    .dataframe thead th {\n",
              "        text-align: right;\n",
              "    }\n",
              "</style>\n",
              "<table border=\"1\" class=\"dataframe\">\n",
              "  <thead>\n",
              "    <tr style=\"text-align: right;\">\n",
              "      <th></th>\n",
              "      <th>date</th>\n",
              "      <th>open</th>\n",
              "      <th>high</th>\n",
              "      <th>low</th>\n",
              "      <th>close</th>\n",
              "      <th>volume</th>\n",
              "      <th>Name</th>\n",
              "    </tr>\n",
              "  </thead>\n",
              "  <tbody>\n",
              "    <tr>\n",
              "      <th>372855</th>\n",
              "      <td>2014-03-26</td>\n",
              "      <td>54.57</td>\n",
              "      <td>54.80</td>\n",
              "      <td>53.4500</td>\n",
              "      <td>53.58</td>\n",
              "      <td>7311023</td>\n",
              "      <td>MET</td>\n",
              "    </tr>\n",
              "    <tr>\n",
              "      <th>372856</th>\n",
              "      <td>2014-03-27</td>\n",
              "      <td>53.37</td>\n",
              "      <td>53.44</td>\n",
              "      <td>52.1600</td>\n",
              "      <td>52.36</td>\n",
              "      <td>5926490</td>\n",
              "      <td>MET</td>\n",
              "    </tr>\n",
              "    <tr>\n",
              "      <th>372857</th>\n",
              "      <td>2014-03-28</td>\n",
              "      <td>52.50</td>\n",
              "      <td>52.95</td>\n",
              "      <td>52.1001</td>\n",
              "      <td>52.56</td>\n",
              "      <td>4738906</td>\n",
              "      <td>MET</td>\n",
              "    </tr>\n",
              "    <tr>\n",
              "      <th>372858</th>\n",
              "      <td>2014-03-31</td>\n",
              "      <td>52.93</td>\n",
              "      <td>53.31</td>\n",
              "      <td>52.6600</td>\n",
              "      <td>52.80</td>\n",
              "      <td>5258744</td>\n",
              "      <td>MET</td>\n",
              "    </tr>\n",
              "    <tr>\n",
              "      <th>372859</th>\n",
              "      <td>2014-04-01</td>\n",
              "      <td>54.43</td>\n",
              "      <td>54.43</td>\n",
              "      <td>53.2100</td>\n",
              "      <td>53.44</td>\n",
              "      <td>59328</td>\n",
              "      <td>NaN</td>\n",
              "    </tr>\n",
              "  </tbody>\n",
              "</table>\n",
              "</div>\n",
              "      <button class=\"colab-df-convert\" onclick=\"convertToInteractive('df-e08018c9-d17f-4368-bbc5-abec899fbd76')\"\n",
              "              title=\"Convert this dataframe to an interactive table.\"\n",
              "              style=\"display:none;\">\n",
              "        \n",
              "  <svg xmlns=\"http://www.w3.org/2000/svg\" height=\"24px\"viewBox=\"0 0 24 24\"\n",
              "       width=\"24px\">\n",
              "    <path d=\"M0 0h24v24H0V0z\" fill=\"none\"/>\n",
              "    <path d=\"M18.56 5.44l.94 2.06.94-2.06 2.06-.94-2.06-.94-.94-2.06-.94 2.06-2.06.94zm-11 1L8.5 8.5l.94-2.06 2.06-.94-2.06-.94L8.5 2.5l-.94 2.06-2.06.94zm10 10l.94 2.06.94-2.06 2.06-.94-2.06-.94-.94-2.06-.94 2.06-2.06.94z\"/><path d=\"M17.41 7.96l-1.37-1.37c-.4-.4-.92-.59-1.43-.59-.52 0-1.04.2-1.43.59L10.3 9.45l-7.72 7.72c-.78.78-.78 2.05 0 2.83L4 21.41c.39.39.9.59 1.41.59.51 0 1.02-.2 1.41-.59l7.78-7.78 2.81-2.81c.8-.78.8-2.07 0-2.86zM5.41 20L4 18.59l7.72-7.72 1.47 1.35L5.41 20z\"/>\n",
              "  </svg>\n",
              "      </button>\n",
              "      \n",
              "  <style>\n",
              "    .colab-df-container {\n",
              "      display:flex;\n",
              "      flex-wrap:wrap;\n",
              "      gap: 12px;\n",
              "    }\n",
              "\n",
              "    .colab-df-convert {\n",
              "      background-color: #E8F0FE;\n",
              "      border: none;\n",
              "      border-radius: 50%;\n",
              "      cursor: pointer;\n",
              "      display: none;\n",
              "      fill: #1967D2;\n",
              "      height: 32px;\n",
              "      padding: 0 0 0 0;\n",
              "      width: 32px;\n",
              "    }\n",
              "\n",
              "    .colab-df-convert:hover {\n",
              "      background-color: #E2EBFA;\n",
              "      box-shadow: 0px 1px 2px rgba(60, 64, 67, 0.3), 0px 1px 3px 1px rgba(60, 64, 67, 0.15);\n",
              "      fill: #174EA6;\n",
              "    }\n",
              "\n",
              "    [theme=dark] .colab-df-convert {\n",
              "      background-color: #3B4455;\n",
              "      fill: #D2E3FC;\n",
              "    }\n",
              "\n",
              "    [theme=dark] .colab-df-convert:hover {\n",
              "      background-color: #434B5C;\n",
              "      box-shadow: 0px 1px 3px 1px rgba(0, 0, 0, 0.15);\n",
              "      filter: drop-shadow(0px 1px 2px rgba(0, 0, 0, 0.3));\n",
              "      fill: #FFFFFF;\n",
              "    }\n",
              "  </style>\n",
              "\n",
              "      <script>\n",
              "        const buttonEl =\n",
              "          document.querySelector('#df-e08018c9-d17f-4368-bbc5-abec899fbd76 button.colab-df-convert');\n",
              "        buttonEl.style.display =\n",
              "          google.colab.kernel.accessAllowed ? 'block' : 'none';\n",
              "\n",
              "        async function convertToInteractive(key) {\n",
              "          const element = document.querySelector('#df-e08018c9-d17f-4368-bbc5-abec899fbd76');\n",
              "          const dataTable =\n",
              "            await google.colab.kernel.invokeFunction('convertToInteractive',\n",
              "                                                     [key], {});\n",
              "          if (!dataTable) return;\n",
              "\n",
              "          const docLinkHtml = 'Like what you see? Visit the ' +\n",
              "            '<a target=\"_blank\" href=https://colab.research.google.com/notebooks/data_table.ipynb>data table notebook</a>'\n",
              "            + ' to learn more about interactive tables.';\n",
              "          element.innerHTML = '';\n",
              "          dataTable['output_type'] = 'display_data';\n",
              "          await google.colab.output.renderOutput(dataTable, element);\n",
              "          const docLink = document.createElement('div');\n",
              "          docLink.innerHTML = docLinkHtml;\n",
              "          element.appendChild(docLink);\n",
              "        }\n",
              "      </script>\n",
              "    </div>\n",
              "  </div>\n",
              "  "
            ],
            "text/plain": [
              "              date   open   high      low  close   volume Name\n",
              "372855  2014-03-26  54.57  54.80  53.4500  53.58  7311023  MET\n",
              "372856  2014-03-27  53.37  53.44  52.1600  52.36  5926490  MET\n",
              "372857  2014-03-28  52.50  52.95  52.1001  52.56  4738906  MET\n",
              "372858  2014-03-31  52.93  53.31  52.6600  52.80  5258744  MET\n",
              "372859  2014-04-01  54.43  54.43  53.2100  53.44    59328  NaN"
            ]
          },
          "execution_count": 4,
          "metadata": {},
          "output_type": "execute_result"
        }
      ],
      "source": [
        "df.tail()"
      ]
    },
    {
      "cell_type": "code",
      "execution_count": null,
      "metadata": {
        "colab": {
          "base_uri": "https://localhost:8080/"
        },
        "id": "9SNQpbz_F9gw",
        "outputId": "c8dd6ed4-6fae-457e-dd22-5d1d09353b1f"
      },
      "outputs": [
        {
          "data": {
            "text/plain": [
              "0         14.75\n",
              "1         14.46\n",
              "2         14.27\n",
              "3         14.66\n",
              "4         13.99\n",
              "          ...  \n",
              "372855    53.58\n",
              "372856    52.36\n",
              "372857    52.56\n",
              "372858    52.80\n",
              "372859    53.44\n",
              "Name: close, Length: 372860, dtype: float64"
            ]
          },
          "execution_count": 5,
          "metadata": {},
          "output_type": "execute_result"
        }
      ],
      "source": [
        "df1=df.reset_index()['close']\n",
        "df1"
      ]
    },
    {
      "cell_type": "code",
      "execution_count": null,
      "metadata": {
        "colab": {
          "base_uri": "https://localhost:8080/",
          "height": 282
        },
        "id": "8QPtUWrqGEe2",
        "outputId": "51dbad85-06bc-4158-d761-c5e00a506446"
      },
      "outputs": [
        {
          "data": {
            "text/plain": [
              "[<matplotlib.lines.Line2D at 0x7f7294909490>]"
            ]
          },
          "execution_count": 6,
          "metadata": {},
          "output_type": "execute_result"
        },
        {
          "data": {
            "image/png": "[encoded data removed]",
            "text/plain": [
              "<Figure size 432x288 with 1 Axes>"
            ]
          },
          "metadata": {},
          "output_type": "display_data"
        }
      ],
      "source": [
        "import matplotlib.pyplot as plt\n",
        "plt.plot(df1)"
      ]
    },
    {
      "cell_type": "code",
      "execution_count": null,
      "metadata": {
        "colab": {
          "base_uri": "https://localhost:8080/"
        },
        "id": "6jFaMbHzGKEt",
        "outputId": "ebf15956-77fc-464f-82a3-5365262d487a"
      },
      "outputs": [
        {
          "data": {
            "text/plain": [
              "0         14.75\n",
              "1         14.46\n",
              "2         14.27\n",
              "3         14.66\n",
              "4         13.99\n",
              "          ...  \n",
              "372855    53.58\n",
              "372856    52.36\n",
              "372857    52.56\n",
              "372858    52.80\n",
              "372859    53.44\n",
              "Name: close, Length: 372860, dtype: float64"
            ]
          },
          "execution_count": 7,
          "metadata": {},
          "output_type": "execute_result"
        }
      ],
      "source": [
        "### LSTM are sensitive to the scale of the data. so we apply MinMax scaler \n",
        "import numpy as np\n",
        "df1"
      ]
    },
    {
      "cell_type": "code",
      "execution_count": null,
      "metadata": {
        "colab": {
          "base_uri": "https://localhost:8080/"
        },
        "id": "KOIOWS1UGMEU",
        "outputId": "e3e0bda3-bb6c-426d-da3c-934c210cdb6a"
      },
      "outputs": [
        {
          "name": "stdout",
          "output_type": "stream",
          "text": [
            "[[0.00908025]\n",
            " [0.00888015]\n",
            " [0.00874905]\n",
            " ...\n",
            " [0.0351687 ]\n",
            " [0.0353343 ]\n",
            " [0.03577589]]\n"
          ]
        }
      ],
      "source": [
        "from sklearn.preprocessing import MinMaxScaler\n",
        "scaler=MinMaxScaler(feature_range=(0,1))\n",
        "df1=scaler.fit_transform(np.array(df1).reshape(-1,1))\n",
        "print(df1)"
      ]
    },
    {
      "cell_type": "code",
      "execution_count": null,
      "metadata": {
        "colab": {
          "base_uri": "https://localhost:8080/"
        },
        "id": "UX8---thGUpF",
        "outputId": "e9b341c7-32c1-4060-8993-623058e14d7e"
      },
      "outputs": [
        {
          "data": {
            "text/plain": [
              "(242359, 130501)"
            ]
          },
          "execution_count": 9,
          "metadata": {},
          "output_type": "execute_result"
        }
      ],
      "source": [
        "##splitting dataset into train and test split\n",
        "training_size=int(len(df1)*0.65)\n",
        "test_size=len(df1)-training_size\n",
        "train_data,test_data=df1[0:training_size,:],df1[training_size:len(df1),:1]\n",
        "training_size,test_size"
      ]
    },
    {
      "cell_type": "code",
      "execution_count": null,
      "metadata": {
        "colab": {
          "base_uri": "https://localhost:8080/"
        },
        "id": "AWRrlzt4GYyM",
        "outputId": "84d369b3-36e5-4fec-c3c0-00b7b9f2c49d"
      },
      "outputs": [
        {
          "data": {
            "text/plain": [
              "array([[0.00908025],\n",
              "       [0.00888015],\n",
              "       [0.00874905],\n",
              "       ...,\n",
              "       [0.09656386],\n",
              "       [0.09669496],\n",
              "       [0.09726765]])"
            ]
          },
          "execution_count": 10,
          "metadata": {},
          "output_type": "execute_result"
        }
      ],
      "source": [
        "train_data"
      ]
    },
    {
      "cell_type": "code",
      "execution_count": null,
      "metadata": {
        "colab": {
          "base_uri": "https://localhost:8080/"
        },
        "id": "rlWXoYyFGhfB",
        "outputId": "7514220e-fa1f-460f-fdea-92a5f3842eef"
      },
      "outputs": [
        {
          "name": "stdout",
          "output_type": "stream",
          "text": [
            "(242258, 100)\n",
            "(242258,)\n"
          ]
        },
        {
          "data": {
            "text/plain": [
              "(None, None)"
            ]
          },
          "execution_count": 11,
          "metadata": {},
          "output_type": "execute_result"
        }
      ],
      "source": [
        "import numpy\n",
        "# convert an array of values into a dataset matrix\n",
        "def create_dataset(dataset, time_step=1):\n",
        "\tdataX, dataY = [], []\n",
        "\tfor i in range(len(dataset)-time_step-1):\n",
        "\t\ta = dataset[i:(i+time_step), 0]   ###i=0, 0,1,2,3-----99   100 \n",
        "\t\tdataX.append(a)\n",
        "\t\tdataY.append(dataset[i + time_step, 0])\n",
        "\treturn numpy.array(dataX), numpy.array(dataY)\n",
        "# reshape into X=t,t+1,t+2,t+3 and Y=t+4\n",
        "time_step = 100\n",
        "X_train, y_train = create_dataset(train_data, time_step)\n",
        "X_test, ytest = create_dataset(test_data, time_step)\n",
        "print(X_train.shape), print(y_train.shape)"
      ]
    },
    {
      "cell_type": "code",
      "execution_count": null,
      "metadata": {
        "colab": {
          "base_uri": "https://localhost:8080/"
        },
        "id": "krgH7uoTGnLT",
        "outputId": "8e6fae9e-608c-4454-d853-f285947a894c"
      },
      "outputs": [
        {
          "name": "stdout",
          "output_type": "stream",
          "text": [
            "(130400, 100)\n",
            "(130400,)\n"
          ]
        },
        {
          "data": {
            "text/plain": [
              "(None, None)"
            ]
          },
          "execution_count": 12,
          "metadata": {},
          "output_type": "execute_result"
        }
      ],
      "source": [
        "print(X_test.shape), print(ytest.shape)"
      ]
    },
    {
      "cell_type": "code",
      "execution_count": null,
      "metadata": {
        "id": "ZIGOo7mJGr8x"
      },
      "outputs": [],
      "source": [
        "# reshape input to be [samples, time steps, features] which is required for LSTM\n",
        "X_train =X_train.reshape(X_train.shape[0],X_train.shape[1] , 1)\n",
        "X_test = X_test.reshape(X_test.shape[0],X_test.shape[1] , 1)\n",
        "### Create the Stacked LSTM model\n",
        "from tensorflow.keras.models import Sequential\n",
        "from tensorflow.keras.layers import Dense\n",
        "from tensorflow.keras.layers import LSTM\n"
      ]
    },
    {
      "cell_type": "code",
      "execution_count": null,
      "metadata": {
        "colab": {
          "base_uri": "https://localhost:8080/"
        },
        "id": "JWYL17puJqSt",
        "outputId": "86f2d848-1675-4823-e73c-39adafb2506a"
      },
      "outputs": [
        {
          "name": "stdout",
          "output_type": "stream",
          "text": [
            "Model: \"sequential\"\n",
            "_________________________________________________________________\n",
            " Layer (type)                Output Shape              Param #   \n",
            "=================================================================\n",
            " lstm (LSTM)                 (None, 100, 50)           10400     \n",
            "                                                                 \n",
            " lstm_1 (LSTM)               (None, 100, 50)           20200     \n",
            "                                                                 \n",
            " lstm_2 (LSTM)               (None, 50)                20200     \n",
            "                                                                 \n",
            " dense (Dense)               (None, 1)                 51        \n",
            "                                                                 \n",
            "=================================================================\n",
            "Total params: 50,851\n",
            "Trainable params: 50,851\n",
            "Non-trainable params: 0\n",
            "_________________________________________________________________\n"
          ]
        }
      ],
      "source": [
        "model=Sequential()\n",
        "model.add(LSTM(50,return_sequences=True,input_shape=(100,1)))\n",
        "model.add(LSTM(50,return_sequences=True))\n",
        "model.add(LSTM(50))\n",
        "model.add(Dense(1))\n",
        "model.compile(loss='mean_squared_error',optimizer='adam')\n",
        "model.summary()"
      ]
    },
    {
      "cell_type": "code",
      "execution_count": null,
      "metadata": {
        "colab": {
          "base_uri": "https://localhost:8080/"
        },
        "id": "w48u4OqjJ0Ur",
        "outputId": "2ac8e6aa-1cbf-4464-9757-b6fd8be586f1"
      },
      "outputs": [
        {
          "name": "stdout",
          "output_type": "stream",
          "text": [
            "Model: \"sequential\"\n",
            "_________________________________________________________________\n",
            " Layer (type)                Output Shape              Param #   \n",
            "=================================================================\n",
            " lstm (LSTM)                 (None, 100, 50)           10400     \n",
            "                                                                 \n",
            " lstm_1 (LSTM)               (None, 100, 50)           20200     \n",
            "                                                                 \n",
            " lstm_2 (LSTM)               (None, 50)                20200     \n",
            "                                                                 \n",
            " dense (Dense)               (None, 1)                 51        \n",
            "                                                                 \n",
            "=================================================================\n",
            "Total params: 50,851\n",
            "Trainable params: 50,851\n",
            "Non-trainable params: 0\n",
            "_________________________________________________________________\n"
          ]
        }
      ],
      "source": [
        "model.summary()"
      ]
    },
    {
      "cell_type": "code",
      "execution_count": null,
      "metadata": {
        "colab": {
          "background_save": true,
          "base_uri": "https://localhost:8080/"
        },
        "id": "i9XzDnKTG0rO",
        "outputId": "20d57d81-e129-4baf-c619-76d9fafc601b"
      },
      "outputs": [
        {
          "name": "stdout",
          "output_type": "stream",
          "text": [
            "Epoch 1/100\n",
            "3786/3786 [==============================] - 794s 208ms/step - loss: 5.7453e-05 - val_loss: 1.7254e-05\n",
            "Epoch 2/100\n",
            "3786/3786 [==============================] - 782s 207ms/step - loss: 2.5036e-05 - val_loss: 1.0761e-05\n",
            "Epoch 3/100\n",
            "3786/3786 [==============================] - 781s 206ms/step - loss: 1.5695e-05 - val_loss: 1.2525e-05\n",
            "Epoch 4/100\n",
            "3786/3786 [==============================] - 774s 204ms/step - loss: 1.5955e-05 - val_loss: 2.6073e-05\n",
            "Epoch 5/100\n",
            "3786/3786 [==============================] - 776s 205ms/step - loss: 1.4855e-05 - val_loss: 2.3662e-05\n",
            "Epoch 6/100\n",
            "3786/3786 [==============================] - 768s 203ms/step - loss: 1.4068e-05 - val_loss: 1.1487e-05\n",
            "Epoch 7/100\n",
            "3786/3786 [==============================] - ETA: 0s - loss: 1.3438e-05"
          ]
        }
      ],
      "source": [
        "model.fit(X_train,y_train,validation_data=(X_test,ytest),epochs=100,batch_size=64,verbose=1)"
      ]
    },
    {
      "cell_type": "code",
      "execution_count": null,
      "metadata": {
        "id": "TObOg0RfG6gb"
      },
      "outputs": [],
      "source": [
        "import tensorflow as tf\n",
        "tf.__version__"
      ]
    },
    {
      "cell_type": "code",
      "execution_count": null,
      "metadata": {
        "id": "ZkFU9yn_G78p"
      },
      "outputs": [],
      "source": [
        "### Lets Do the prediction and check performance metrics\n",
        "train_predict=model.predict(X_train)\n",
        "test_predict=model.predict(X_test)\n",
        "##Transformback to original form\n",
        "train_predict=scaler.inverse_transform(train_predict)\n",
        "test_predict=scaler.inverse_transform(test_predict)\n",
        "### Calculate RMSE performance metrics\n",
        "import math\n",
        "from sklearn.metrics import mean_squared_error\n",
        "math.sqrt(mean_squared_error(y_train,train_predict))\n",
        "140.9909210035748\n",
        "### Test Data RMSE\n",
        "math.sqrt(mean_squared_error(ytest,test_predict))"
      ]
    },
    {
      "cell_type": "code",
      "execution_count": null,
      "metadata": {
        "id": "mGGsgKn0HH5A"
      },
      "outputs": [],
      "source": [
        "### Plotting \n",
        "# shift train predictions for plotting\n",
        "look_back=100\n",
        "trainPredictPlot = numpy.empty_like(df1)\n",
        "trainPredictPlot[:, :] = np.nan\n",
        "trainPredictPlot[look_back:len(train_predict)+look_back, :] = train_predict\n",
        "# shift test predictions for plotting\n",
        "testPredictPlot = numpy.empty_like(df1)\n",
        "testPredictPlot[:, :] = numpy.nan\n",
        "testPredictPlot[len(train_predict)+(look_back*2)+1:len(df1)-1, :] = test_predict\n",
        "# plot baseline and predictions\n",
        "plt.plot(scaler.inverse_transform(df1))\n",
        "plt.plot(trainPredictPlot)\n",
        "plt.plot(testPredictPlot)\n",
        "plt.show()"
      ]
    },
    {
      "cell_type": "code",
      "execution_count": null,
      "metadata": {
        "id": "8LlG2LVqHK8E"
      },
      "outputs": [],
      "source": [
        "len(test_data)"
      ]
    },
    {
      "cell_type": "code",
      "execution_count": null,
      "metadata": {
        "id": "oJTL4O0ZHNI9"
      },
      "outputs": [],
      "source": [
        "x_input=test_data[341:].reshape(1,-1)\n",
        "x_input.shape"
      ]
    },
    {
      "cell_type": "code",
      "execution_count": null,
      "metadata": {
        "id": "hpCjC5rnHSAJ"
      },
      "outputs": [],
      "source": [
        "temp_input=list(x_input)\n",
        "temp_input=temp_input[0].tolist()\n",
        "temp_input"
      ]
    },
    {
      "cell_type": "code",
      "execution_count": null,
      "metadata": {
        "colab": {
          "base_uri": "https://localhost:8080/"
        },
        "id": "BhWaAc8nHX1K",
        "outputId": "84d1debe-8d1b-4d3e-951c-d2e0146dc251"
      },
      "outputs": [
        {
          "name": "stdout",
          "output_type": "stream",
          "text": [
            "[0.1357409]\n",
            "101\n",
            "1 day input [0.17092048 0.16961803 0.181866   0.17257358 0.16904195 0.18149029\n",
            " 0.16385723 0.16105197 0.15757044 0.16568566 0.17232311 0.17392611\n",
            " 0.18407013 0.18146525 0.18169067 0.17873513 0.17715717 0.18827802\n",
            " 0.18249217 0.17051972 0.16320601 0.16363181 0.1636819  0.17092048\n",
            " 0.17204759 0.1636819  0.16588604 0.15769568 0.14875391 0.14444584\n",
            " 0.13918597 0.13720726 0.13259862 0.1323732  0.13119599 0.15902317\n",
            " 0.17016907 0.16974327 0.17282405 0.16546024 0.16418284 0.16235441\n",
            " 0.1702943  0.17392611 0.16350657 0.15479023 0.15539136 0.16518472\n",
            " 0.16458359 0.15539136 0.15143394 0.14396994 0.13332498 0.14001252\n",
            " 0.14529743 0.1459737  0.14116468 0.14958046 0.14875391 0.14108954\n",
            " 0.13139637 0.12673763 0.14053851 0.12944271 0.11994991 0.1096556\n",
            " 0.1208516  0.13212273 0.13470257 0.14311835 0.14662492 0.15524108\n",
            " 0.1587226  0.16839073 0.17001879 0.17222292 0.1806387  0.17765811\n",
            " 0.16974327 0.16899186 0.17933626 0.17087038 0.16278021 0.16355667\n",
            " 0.15842204 0.14755166 0.15233563 0.1591985  0.1463995  0.14584847\n",
            " 0.15168441 0.15125861 0.14922981 0.13763306 0.14036318 0.12513463\n",
            " 0.12455855 0.14226675 0.12726362 0.13574091]\n",
            "1 day output [[0.13418493]]\n",
            "2 day input [0.16961803 0.181866   0.17257358 0.16904195 0.18149029 0.16385723\n",
            " 0.16105197 0.15757044 0.16568566 0.17232311 0.17392611 0.18407013\n",
            " 0.18146525 0.18169067 0.17873513 0.17715717 0.18827802 0.18249217\n",
            " 0.17051972 0.16320601 0.16363181 0.1636819  0.17092048 0.17204759\n",
            " 0.1636819  0.16588604 0.15769568 0.14875391 0.14444584 0.13918597\n",
            " 0.13720726 0.13259862 0.1323732  0.13119599 0.15902317 0.17016907\n",
            " 0.16974327 0.17282405 0.16546024 0.16418284 0.16235441 0.1702943\n",
            " 0.17392611 0.16350657 0.15479023 0.15539136 0.16518472 0.16458359\n",
            " 0.15539136 0.15143394 0.14396994 0.13332498 0.14001252 0.14529743\n",
            " 0.1459737  0.14116468 0.14958046 0.14875391 0.14108954 0.13139637\n",
            " 0.12673763 0.14053851 0.12944271 0.11994991 0.1096556  0.1208516\n",
            " 0.13212273 0.13470257 0.14311835 0.14662492 0.15524108 0.1587226\n",
            " 0.16839073 0.17001879 0.17222292 0.1806387  0.17765811 0.16974327\n",
            " 0.16899186 0.17933626 0.17087038 0.16278021 0.16355667 0.15842204\n",
            " 0.14755166 0.15233563 0.1591985  0.1463995  0.14584847 0.15168441\n",
            " 0.15125861 0.14922981 0.13763306 0.14036318 0.12513463 0.12455855\n",
            " 0.14226675 0.12726362 0.13574091 0.13418493]\n",
            "2 day output [[0.13324448]]\n",
            "3 day input [0.181866   0.17257358 0.16904195 0.18149029 0.16385723 0.16105197\n",
            " 0.15757044 0.16568566 0.17232311 0.17392611 0.18407013 0.18146525\n",
            " 0.18169067 0.17873513 0.17715717 0.18827802 0.18249217 0.17051972\n",
            " 0.16320601 0.16363181 0.1636819  0.17092048 0.17204759 0.1636819\n",
            " 0.16588604 0.15769568 0.14875391 0.14444584 0.13918597 0.13720726\n",
            " 0.13259862 0.1323732  0.13119599 0.15902317 0.17016907 0.16974327\n",
            " 0.17282405 0.16546024 0.16418284 0.16235441 0.1702943  0.17392611\n",
            " 0.16350657 0.15479023 0.15539136 0.16518472 0.16458359 0.15539136\n",
            " 0.15143394 0.14396994 0.13332498 0.14001252 0.14529743 0.1459737\n",
            " 0.14116468 0.14958046 0.14875391 0.14108954 0.13139637 0.12673763\n",
            " 0.14053851 0.12944271 0.11994991 0.1096556  0.1208516  0.13212273\n",
            " 0.13470257 0.14311835 0.14662492 0.15524108 0.1587226  0.16839073\n",
            " 0.17001879 0.17222292 0.1806387  0.17765811 0.16974327 0.16899186\n",
            " 0.17933626 0.17087038 0.16278021 0.16355667 0.15842204 0.14755166\n",
            " 0.15233563 0.1591985  0.1463995  0.14584847 0.15168441 0.15125861\n",
            " 0.14922981 0.13763306 0.14036318 0.12513463 0.12455855 0.14226675\n",
            " 0.12726362 0.13574091 0.13418493 0.13324448]\n",
            "3 day output [[0.13278334]]\n",
            "4 day input [0.17257358 0.16904195 0.18149029 0.16385723 0.16105197 0.15757044\n",
            " 0.16568566 0.17232311 0.17392611 0.18407013 0.18146525 0.18169067\n",
            " 0.17873513 0.17715717 0.18827802 0.18249217 0.17051972 0.16320601\n",
            " 0.16363181 0.1636819  0.17092048 0.17204759 0.1636819  0.16588604\n",
            " 0.15769568 0.14875391 0.14444584 0.13918597 0.13720726 0.13259862\n",
            " 0.1323732  0.13119599 0.15902317 0.17016907 0.16974327 0.17282405\n",
            " 0.16546024 0.16418284 0.16235441 0.1702943  0.17392611 0.16350657\n",
            " 0.15479023 0.15539136 0.16518472 0.16458359 0.15539136 0.15143394\n",
            " 0.14396994 0.13332498 0.14001252 0.14529743 0.1459737  0.14116468\n",
            " 0.14958046 0.14875391 0.14108954 0.13139637 0.12673763 0.14053851\n",
            " 0.12944271 0.11994991 0.1096556  0.1208516  0.13212273 0.13470257\n",
            " 0.14311835 0.14662492 0.15524108 0.1587226  0.16839073 0.17001879\n",
            " 0.17222292 0.1806387  0.17765811 0.16974327 0.16899186 0.17933626\n",
            " 0.17087038 0.16278021 0.16355667 0.15842204 0.14755166 0.15233563\n",
            " 0.1591985  0.1463995  0.14584847 0.15168441 0.15125861 0.14922981\n",
            " 0.13763306 0.14036318 0.12513463 0.12455855 0.14226675 0.12726362\n",
            " 0.13574091 0.13418493 0.13324448 0.13278334]\n",
            "4 day output [[0.13264845]]\n",
            "5 day input [0.16904195 0.18149029 0.16385723 0.16105197 0.15757044 0.16568566\n",
            " 0.17232311 0.17392611 0.18407013 0.18146525 0.18169067 0.17873513\n",
            " 0.17715717 0.18827802 0.18249217 0.17051972 0.16320601 0.16363181\n",
            " 0.1636819  0.17092048 0.17204759 0.1636819  0.16588604 0.15769568\n",
            " 0.14875391 0.14444584 0.13918597 0.13720726 0.13259862 0.1323732\n",
            " 0.13119599 0.15902317 0.17016907 0.16974327 0.17282405 0.16546024\n",
            " 0.16418284 0.16235441 0.1702943  0.17392611 0.16350657 0.15479023\n",
            " 0.15539136 0.16518472 0.16458359 0.15539136 0.15143394 0.14396994\n",
            " 0.13332498 0.14001252 0.14529743 0.1459737  0.14116468 0.14958046\n",
            " 0.14875391 0.14108954 0.13139637 0.12673763 0.14053851 0.12944271\n",
            " 0.11994991 0.1096556  0.1208516  0.13212273 0.13470257 0.14311835\n",
            " 0.14662492 0.15524108 0.1587226  0.16839073 0.17001879 0.17222292\n",
            " 0.1806387  0.17765811 0.16974327 0.16899186 0.17933626 0.17087038\n",
            " 0.16278021 0.16355667 0.15842204 0.14755166 0.15233563 0.1591985\n",
            " 0.1463995  0.14584847 0.15168441 0.15125861 0.14922981 0.13763306\n",
            " 0.14036318 0.12513463 0.12455855 0.14226675 0.12726362 0.13574091\n",
            " 0.13418493 0.13324448 0.13278334 0.13264845]\n",
            "5 day output [[0.13271546]]\n",
            "6 day input [0.18149029 0.16385723 0.16105197 0.15757044 0.16568566 0.17232311\n",
            " 0.17392611 0.18407013 0.18146525 0.18169067 0.17873513 0.17715717\n",
            " 0.18827802 0.18249217 0.17051972 0.16320601 0.16363181 0.1636819\n",
            " 0.17092048 0.17204759 0.1636819  0.16588604 0.15769568 0.14875391\n",
            " 0.14444584 0.13918597 0.13720726 0.13259862 0.1323732  0.13119599\n",
            " 0.15902317 0.17016907 0.16974327 0.17282405 0.16546024 0.16418284\n",
            " 0.16235441 0.1702943  0.17392611 0.16350657 0.15479023 0.15539136\n",
            " 0.16518472 0.16458359 0.15539136 0.15143394 0.14396994 0.13332498\n",
            " 0.14001252 0.14529743 0.1459737  0.14116468 0.14958046 0.14875391\n",
            " 0.14108954 0.13139637 0.12673763 0.14053851 0.12944271 0.11994991\n",
            " 0.1096556  0.1208516  0.13212273 0.13470257 0.14311835 0.14662492\n",
            " 0.15524108 0.1587226  0.16839073 0.17001879 0.17222292 0.1806387\n",
            " 0.17765811 0.16974327 0.16899186 0.17933626 0.17087038 0.16278021\n",
            " 0.16355667 0.15842204 0.14755166 0.15233563 0.1591985  0.1463995\n",
            " 0.14584847 0.15168441 0.15125861 0.14922981 0.13763306 0.14036318\n",
            " 0.12513463 0.12455855 0.14226675 0.12726362 0.13574091 0.13418493\n",
            " 0.13324448 0.13278334 0.13264845 0.13271546]\n",
            "6 day output [[0.13289842]]\n",
            "7 day input [0.16385723 0.16105197 0.15757044 0.16568566 0.17232311 0.17392611\n",
            " 0.18407013 0.18146525 0.18169067 0.17873513 0.17715717 0.18827802\n",
            " 0.18249217 0.17051972 0.16320601 0.16363181 0.1636819  0.17092048\n",
            " 0.17204759 0.1636819  0.16588604 0.15769568 0.14875391 0.14444584\n",
            " 0.13918597 0.13720726 0.13259862 0.1323732  0.13119599 0.15902317\n",
            " 0.17016907 0.16974327 0.17282405 0.16546024 0.16418284 0.16235441\n",
            " 0.1702943  0.17392611 0.16350657 0.15479023 0.15539136 0.16518472\n",
            " 0.16458359 0.15539136 0.15143394 0.14396994 0.13332498 0.14001252\n",
            " 0.14529743 0.1459737  0.14116468 0.14958046 0.14875391 0.14108954\n",
            " 0.13139637 0.12673763 0.14053851 0.12944271 0.11994991 0.1096556\n",
            " 0.1208516  0.13212273 0.13470257 0.14311835 0.14662492 0.15524108\n",
            " 0.1587226  0.16839073 0.17001879 0.17222292 0.1806387  0.17765811\n",
            " 0.16974327 0.16899186 0.17933626 0.17087038 0.16278021 0.16355667\n",
            " 0.15842204 0.14755166 0.15233563 0.1591985  0.1463995  0.14584847\n",
            " 0.15168441 0.15125861 0.14922981 0.13763306 0.14036318 0.12513463\n",
            " 0.12455855 0.14226675 0.12726362 0.13574091 0.13418493 0.13324448\n",
            " 0.13278334 0.13264845 0.13271546 0.13289842]\n",
            "7 day output [[0.13314441]]\n",
            "8 day input [0.16105197 0.15757044 0.16568566 0.17232311 0.17392611 0.18407013\n",
            " 0.18146525 0.18169067 0.17873513 0.17715717 0.18827802 0.18249217\n",
            " 0.17051972 0.16320601 0.16363181 0.1636819  0.17092048 0.17204759\n",
            " 0.1636819  0.16588604 0.15769568 0.14875391 0.14444584 0.13918597\n",
            " 0.13720726 0.13259862 0.1323732  0.13119599 0.15902317 0.17016907\n",
            " 0.16974327 0.17282405 0.16546024 0.16418284 0.16235441 0.1702943\n",
            " 0.17392611 0.16350657 0.15479023 0.15539136 0.16518472 0.16458359\n",
            " 0.15539136 0.15143394 0.14396994 0.13332498 0.14001252 0.14529743\n",
            " 0.1459737  0.14116468 0.14958046 0.14875391 0.14108954 0.13139637\n",
            " 0.12673763 0.14053851 0.12944271 0.11994991 0.1096556  0.1208516\n",
            " 0.13212273 0.13470257 0.14311835 0.14662492 0.15524108 0.1587226\n",
            " 0.16839073 0.17001879 0.17222292 0.1806387  0.17765811 0.16974327\n",
            " 0.16899186 0.17933626 0.17087038 0.16278021 0.16355667 0.15842204\n",
            " 0.14755166 0.15233563 0.1591985  0.1463995  0.14584847 0.15168441\n",
            " 0.15125861 0.14922981 0.13763306 0.14036318 0.12513463 0.12455855\n",
            " 0.14226675 0.12726362 0.13574091 0.13418493 0.13324448 0.13278334\n",
            " 0.13264845 0.13271546 0.13289842 0.13314441]\n",
            "8 day output [[0.13342349]]\n",
            "9 day input [0.15757044 0.16568566 0.17232311 0.17392611 0.18407013 0.18146525\n",
            " 0.18169067 0.17873513 0.17715717 0.18827802 0.18249217 0.17051972\n",
            " 0.16320601 0.16363181 0.1636819  0.17092048 0.17204759 0.1636819\n",
            " 0.16588604 0.15769568 0.14875391 0.14444584 0.13918597 0.13720726\n",
            " 0.13259862 0.1323732  0.13119599 0.15902317 0.17016907 0.16974327\n",
            " 0.17282405 0.16546024 0.16418284 0.16235441 0.1702943  0.17392611\n",
            " 0.16350657 0.15479023 0.15539136 0.16518472 0.16458359 0.15539136\n",
            " 0.15143394 0.14396994 0.13332498 0.14001252 0.14529743 0.1459737\n",
            " 0.14116468 0.14958046 0.14875391 0.14108954 0.13139637 0.12673763\n",
            " 0.14053851 0.12944271 0.11994991 0.1096556  0.1208516  0.13212273\n",
            " 0.13470257 0.14311835 0.14662492 0.15524108 0.1587226  0.16839073\n",
            " 0.17001879 0.17222292 0.1806387  0.17765811 0.16974327 0.16899186\n",
            " 0.17933626 0.17087038 0.16278021 0.16355667 0.15842204 0.14755166\n",
            " 0.15233563 0.1591985  0.1463995  0.14584847 0.15168441 0.15125861\n",
            " 0.14922981 0.13763306 0.14036318 0.12513463 0.12455855 0.14226675\n",
            " 0.12726362 0.13574091 0.13418493 0.13324448 0.13278334 0.13264845\n",
            " 0.13271546 0.13289842 0.13314441 0.13342349]\n",
            "9 day output [[0.13371983]]\n",
            "10 day input [0.16568566 0.17232311 0.17392611 0.18407013 0.18146525 0.18169067\n",
            " 0.17873513 0.17715717 0.18827802 0.18249217 0.17051972 0.16320601\n",
            " 0.16363181 0.1636819  0.17092048 0.17204759 0.1636819  0.16588604\n",
            " 0.15769568 0.14875391 0.14444584 0.13918597 0.13720726 0.13259862\n",
            " 0.1323732  0.13119599 0.15902317 0.17016907 0.16974327 0.17282405\n",
            " 0.16546024 0.16418284 0.16235441 0.1702943  0.17392611 0.16350657\n",
            " 0.15479023 0.15539136 0.16518472 0.16458359 0.15539136 0.15143394\n",
            " 0.14396994 0.13332498 0.14001252 0.14529743 0.1459737  0.14116468\n",
            " 0.14958046 0.14875391 0.14108954 0.13139637 0.12673763 0.14053851\n",
            " 0.12944271 0.11994991 0.1096556  0.1208516  0.13212273 0.13470257\n",
            " 0.14311835 0.14662492 0.15524108 0.1587226  0.16839073 0.17001879\n",
            " 0.17222292 0.1806387  0.17765811 0.16974327 0.16899186 0.17933626\n",
            " 0.17087038 0.16278021 0.16355667 0.15842204 0.14755166 0.15233563\n",
            " 0.1591985  0.1463995  0.14584847 0.15168441 0.15125861 0.14922981\n",
            " 0.13763306 0.14036318 0.12513463 0.12455855 0.14226675 0.12726362\n",
            " 0.13574091 0.13418493 0.13324448 0.13278334 0.13264845 0.13271546\n",
            " 0.13289842 0.13314441 0.13342349 0.13371983]\n",
            "10 day output [[0.1340251]]\n",
            "11 day input [0.17232311 0.17392611 0.18407013 0.18146525 0.18169067 0.17873513\n",
            " 0.17715717 0.18827802 0.18249217 0.17051972 0.16320601 0.16363181\n",
            " 0.1636819  0.17092048 0.17204759 0.1636819  0.16588604 0.15769568\n",
            " 0.14875391 0.14444584 0.13918597 0.13720726 0.13259862 0.1323732\n",
            " 0.13119599 0.15902317 0.17016907 0.16974327 0.17282405 0.16546024\n",
            " 0.16418284 0.16235441 0.1702943  0.17392611 0.16350657 0.15479023\n",
            " 0.15539136 0.16518472 0.16458359 0.15539136 0.15143394 0.14396994\n",
            " 0.13332498 0.14001252 0.14529743 0.1459737  0.14116468 0.14958046\n",
            " 0.14875391 0.14108954 0.13139637 0.12673763 0.14053851 0.12944271\n",
            " 0.11994991 0.1096556  0.1208516  0.13212273 0.13470257 0.14311835\n",
            " 0.14662492 0.15524108 0.1587226  0.16839073 0.17001879 0.17222292\n",
            " 0.1806387  0.17765811 0.16974327 0.16899186 0.17933626 0.17087038\n",
            " 0.16278021 0.16355667 0.15842204 0.14755166 0.15233563 0.1591985\n",
            " 0.1463995  0.14584847 0.15168441 0.15125861 0.14922981 0.13763306\n",
            " 0.14036318 0.12513463 0.12455855 0.14226675 0.12726362 0.13574091\n",
            " 0.13418493 0.13324448 0.13278334 0.13264845 0.13271546 0.13289842\n",
            " 0.13314441 0.13342349 0.13371983 0.1340251 ]\n",
            "11 day output [[0.13433443]]\n",
            "12 day input [0.17392611 0.18407013 0.18146525 0.18169067 0.17873513 0.17715717\n",
            " 0.18827802 0.18249217 0.17051972 0.16320601 0.16363181 0.1636819\n",
            " 0.17092048 0.17204759 0.1636819  0.16588604 0.15769568 0.14875391\n",
            " 0.14444584 0.13918597 0.13720726 0.13259862 0.1323732  0.13119599\n",
            " 0.15902317 0.17016907 0.16974327 0.17282405 0.16546024 0.16418284\n",
            " 0.16235441 0.1702943  0.17392611 0.16350657 0.15479023 0.15539136\n",
            " 0.16518472 0.16458359 0.15539136 0.15143394 0.14396994 0.13332498\n",
            " 0.14001252 0.14529743 0.1459737  0.14116468 0.14958046 0.14875391\n",
            " 0.14108954 0.13139637 0.12673763 0.14053851 0.12944271 0.11994991\n",
            " 0.1096556  0.1208516  0.13212273 0.13470257 0.14311835 0.14662492\n",
            " 0.15524108 0.1587226  0.16839073 0.17001879 0.17222292 0.1806387\n",
            " 0.17765811 0.16974327 0.16899186 0.17933626 0.17087038 0.16278021\n",
            " 0.16355667 0.15842204 0.14755166 0.15233563 0.1591985  0.1463995\n",
            " 0.14584847 0.15168441 0.15125861 0.14922981 0.13763306 0.14036318\n",
            " 0.12513463 0.12455855 0.14226675 0.12726362 0.13574091 0.13418493\n",
            " 0.13324448 0.13278334 0.13264845 0.13271546 0.13289842 0.13314441\n",
            " 0.13342349 0.13371983 0.1340251  0.13433443]\n",
            "12 day output [[0.13464448]]\n",
            "13 day input [0.18407013 0.18146525 0.18169067 0.17873513 0.17715717 0.18827802\n",
            " 0.18249217 0.17051972 0.16320601 0.16363181 0.1636819  0.17092048\n",
            " 0.17204759 0.1636819  0.16588604 0.15769568 0.14875391 0.14444584\n",
            " 0.13918597 0.13720726 0.13259862 0.1323732  0.13119599 0.15902317\n",
            " 0.17016907 0.16974327 0.17282405 0.16546024 0.16418284 0.16235441\n",
            " 0.1702943  0.17392611 0.16350657 0.15479023 0.15539136 0.16518472\n",
            " 0.16458359 0.15539136 0.15143394 0.14396994 0.13332498 0.14001252\n",
            " 0.14529743 0.1459737  0.14116468 0.14958046 0.14875391 0.14108954\n",
            " 0.13139637 0.12673763 0.14053851 0.12944271 0.11994991 0.1096556\n",
            " 0.1208516  0.13212273 0.13470257 0.14311835 0.14662492 0.15524108\n",
            " 0.1587226  0.16839073 0.17001879 0.17222292 0.1806387  0.17765811\n",
            " 0.16974327 0.16899186 0.17933626 0.17087038 0.16278021 0.16355667\n",
            " 0.15842204 0.14755166 0.15233563 0.1591985  0.1463995  0.14584847\n",
            " 0.15168441 0.15125861 0.14922981 0.13763306 0.14036318 0.12513463\n",
            " 0.12455855 0.14226675 0.12726362 0.13574091 0.13418493 0.13324448\n",
            " 0.13278334 0.13264845 0.13271546 0.13289842 0.13314441 0.13342349\n",
            " 0.13371983 0.1340251  0.13433443 0.13464448]\n",
            "13 day output [[0.13495243]]\n",
            "14 day input [0.18146525 0.18169067 0.17873513 0.17715717 0.18827802 0.18249217\n",
            " 0.17051972 0.16320601 0.16363181 0.1636819  0.17092048 0.17204759\n",
            " 0.1636819  0.16588604 0.15769568 0.14875391 0.14444584 0.13918597\n",
            " 0.13720726 0.13259862 0.1323732  0.13119599 0.15902317 0.17016907\n",
            " 0.16974327 0.17282405 0.16546024 0.16418284 0.16235441 0.1702943\n",
            " 0.17392611 0.16350657 0.15479023 0.15539136 0.16518472 0.16458359\n",
            " 0.15539136 0.15143394 0.14396994 0.13332498 0.14001252 0.14529743\n",
            " 0.1459737  0.14116468 0.14958046 0.14875391 0.14108954 0.13139637\n",
            " 0.12673763 0.14053851 0.12944271 0.11994991 0.1096556  0.1208516\n",
            " 0.13212273 0.13470257 0.14311835 0.14662492 0.15524108 0.1587226\n",
            " 0.16839073 0.17001879 0.17222292 0.1806387  0.17765811 0.16974327\n",
            " 0.16899186 0.17933626 0.17087038 0.16278021 0.16355667 0.15842204\n",
            " 0.14755166 0.15233563 0.1591985  0.1463995  0.14584847 0.15168441\n",
            " 0.15125861 0.14922981 0.13763306 0.14036318 0.12513463 0.12455855\n",
            " 0.14226675 0.12726362 0.13574091 0.13418493 0.13324448 0.13278334\n",
            " 0.13264845 0.13271546 0.13289842 0.13314441 0.13342349 0.13371983\n",
            " 0.1340251  0.13433443 0.13464448 0.13495243]\n",
            "14 day output [[0.13525568]]\n",
            "15 day input [0.18169067 0.17873513 0.17715717 0.18827802 0.18249217 0.17051972\n",
            " 0.16320601 0.16363181 0.1636819  0.17092048 0.17204759 0.1636819\n",
            " 0.16588604 0.15769568 0.14875391 0.14444584 0.13918597 0.13720726\n",
            " 0.13259862 0.1323732  0.13119599 0.15902317 0.17016907 0.16974327\n",
            " 0.17282405 0.16546024 0.16418284 0.16235441 0.1702943  0.17392611\n",
            " 0.16350657 0.15479023 0.15539136 0.16518472 0.16458359 0.15539136\n",
            " 0.15143394 0.14396994 0.13332498 0.14001252 0.14529743 0.1459737\n",
            " 0.14116468 0.14958046 0.14875391 0.14108954 0.13139637 0.12673763\n",
            " 0.14053851 0.12944271 0.11994991 0.1096556  0.1208516  0.13212273\n",
            " 0.13470257 0.14311835 0.14662492 0.15524108 0.1587226  0.16839073\n",
            " 0.17001879 0.17222292 0.1806387  0.17765811 0.16974327 0.16899186\n",
            " 0.17933626 0.17087038 0.16278021 0.16355667 0.15842204 0.14755166\n",
            " 0.15233563 0.1591985  0.1463995  0.14584847 0.15168441 0.15125861\n",
            " 0.14922981 0.13763306 0.14036318 0.12513463 0.12455855 0.14226675\n",
            " 0.12726362 0.13574091 0.13418493 0.13324448 0.13278334 0.13264845\n",
            " 0.13271546 0.13289842 0.13314441 0.13342349 0.13371983 0.1340251\n",
            " 0.13433443 0.13464448 0.13495243 0.13525568]\n",
            "15 day output [[0.1355519]]\n",
            "16 day input [0.17873513 0.17715717 0.18827802 0.18249217 0.17051972 0.16320601\n",
            " 0.16363181 0.1636819  0.17092048 0.17204759 0.1636819  0.16588604\n",
            " 0.15769568 0.14875391 0.14444584 0.13918597 0.13720726 0.13259862\n",
            " 0.1323732  0.13119599 0.15902317 0.17016907 0.16974327 0.17282405\n",
            " 0.16546024 0.16418284 0.16235441 0.1702943  0.17392611 0.16350657\n",
            " 0.15479023 0.15539136 0.16518472 0.16458359 0.15539136 0.15143394\n",
            " 0.14396994 0.13332498 0.14001252 0.14529743 0.1459737  0.14116468\n",
            " 0.14958046 0.14875391 0.14108954 0.13139637 0.12673763 0.14053851\n",
            " 0.12944271 0.11994991 0.1096556  0.1208516  0.13212273 0.13470257\n",
            " 0.14311835 0.14662492 0.15524108 0.1587226  0.16839073 0.17001879\n",
            " 0.17222292 0.1806387  0.17765811 0.16974327 0.16899186 0.17933626\n",
            " 0.17087038 0.16278021 0.16355667 0.15842204 0.14755166 0.15233563\n",
            " 0.1591985  0.1463995  0.14584847 0.15168441 0.15125861 0.14922981\n",
            " 0.13763306 0.14036318 0.12513463 0.12455855 0.14226675 0.12726362\n",
            " 0.13574091 0.13418493 0.13324448 0.13278334 0.13264845 0.13271546\n",
            " 0.13289842 0.13314441 0.13342349 0.13371983 0.1340251  0.13433443\n",
            " 0.13464448 0.13495243 0.13525568 0.1355519 ]\n",
            "16 day output [[0.13583916]]\n",
            "17 day input [0.17715717 0.18827802 0.18249217 0.17051972 0.16320601 0.16363181\n",
            " 0.1636819  0.17092048 0.17204759 0.1636819  0.16588604 0.15769568\n",
            " 0.14875391 0.14444584 0.13918597 0.13720726 0.13259862 0.1323732\n",
            " 0.13119599 0.15902317 0.17016907 0.16974327 0.17282405 0.16546024\n",
            " 0.16418284 0.16235441 0.1702943  0.17392611 0.16350657 0.15479023\n",
            " 0.15539136 0.16518472 0.16458359 0.15539136 0.15143394 0.14396994\n",
            " 0.13332498 0.14001252 0.14529743 0.1459737  0.14116468 0.14958046\n",
            " 0.14875391 0.14108954 0.13139637 0.12673763 0.14053851 0.12944271\n",
            " 0.11994991 0.1096556  0.1208516  0.13212273 0.13470257 0.14311835\n",
            " 0.14662492 0.15524108 0.1587226  0.16839073 0.17001879 0.17222292\n",
            " 0.1806387  0.17765811 0.16974327 0.16899186 0.17933626 0.17087038\n",
            " 0.16278021 0.16355667 0.15842204 0.14755166 0.15233563 0.1591985\n",
            " 0.1463995  0.14584847 0.15168441 0.15125861 0.14922981 0.13763306\n",
            " 0.14036318 0.12513463 0.12455855 0.14226675 0.12726362 0.13574091\n",
            " 0.13418493 0.13324448 0.13278334 0.13264845 0.13271546 0.13289842\n",
            " 0.13314441 0.13342349 0.13371983 0.1340251  0.13433443 0.13464448\n",
            " 0.13495243 0.13525568 0.1355519  0.13583916]\n",
            "17 day output [[0.13611582]]\n",
            "18 day input [0.18827802 0.18249217 0.17051972 0.16320601 0.16363181 0.1636819\n",
            " 0.17092048 0.17204759 0.1636819  0.16588604 0.15769568 0.14875391\n",
            " 0.14444584 0.13918597 0.13720726 0.13259862 0.1323732  0.13119599\n",
            " 0.15902317 0.17016907 0.16974327 0.17282405 0.16546024 0.16418284\n",
            " 0.16235441 0.1702943  0.17392611 0.16350657 0.15479023 0.15539136\n",
            " 0.16518472 0.16458359 0.15539136 0.15143394 0.14396994 0.13332498\n",
            " 0.14001252 0.14529743 0.1459737  0.14116468 0.14958046 0.14875391\n",
            " 0.14108954 0.13139637 0.12673763 0.14053851 0.12944271 0.11994991\n",
            " 0.1096556  0.1208516  0.13212273 0.13470257 0.14311835 0.14662492\n",
            " 0.15524108 0.1587226  0.16839073 0.17001879 0.17222292 0.1806387\n",
            " 0.17765811 0.16974327 0.16899186 0.17933626 0.17087038 0.16278021\n",
            " 0.16355667 0.15842204 0.14755166 0.15233563 0.1591985  0.1463995\n",
            " 0.14584847 0.15168441 0.15125861 0.14922981 0.13763306 0.14036318\n",
            " 0.12513463 0.12455855 0.14226675 0.12726362 0.13574091 0.13418493\n",
            " 0.13324448 0.13278334 0.13264845 0.13271546 0.13289842 0.13314441\n",
            " 0.13342349 0.13371983 0.1340251  0.13433443 0.13464448 0.13495243\n",
            " 0.13525568 0.1355519  0.13583916 0.13611582]\n",
            "18 day output [[0.13638079]]\n",
            "19 day input [0.18249217 0.17051972 0.16320601 0.16363181 0.1636819  0.17092048\n",
            " 0.17204759 0.1636819  0.16588604 0.15769568 0.14875391 0.14444584\n",
            " 0.13918597 0.13720726 0.13259862 0.1323732  0.13119599 0.15902317\n",
            " 0.17016907 0.16974327 0.17282405 0.16546024 0.16418284 0.16235441\n",
            " 0.1702943  0.17392611 0.16350657 0.15479023 0.15539136 0.16518472\n",
            " 0.16458359 0.15539136 0.15143394 0.14396994 0.13332498 0.14001252\n",
            " 0.14529743 0.1459737  0.14116468 0.14958046 0.14875391 0.14108954\n",
            " 0.13139637 0.12673763 0.14053851 0.12944271 0.11994991 0.1096556\n",
            " 0.1208516  0.13212273 0.13470257 0.14311835 0.14662492 0.15524108\n",
            " 0.1587226  0.16839073 0.17001879 0.17222292 0.1806387  0.17765811\n",
            " 0.16974327 0.16899186 0.17933626 0.17087038 0.16278021 0.16355667\n",
            " 0.15842204 0.14755166 0.15233563 0.1591985  0.1463995  0.14584847\n",
            " 0.15168441 0.15125861 0.14922981 0.13763306 0.14036318 0.12513463\n",
            " 0.12455855 0.14226675 0.12726362 0.13574091 0.13418493 0.13324448\n",
            " 0.13278334 0.13264845 0.13271546 0.13289842 0.13314441 0.13342349\n",
            " 0.13371983 0.1340251  0.13433443 0.13464448 0.13495243 0.13525568\n",
            " 0.1355519  0.13583916 0.13611582 0.13638079]\n",
            "19 day output [[0.13663338]]\n",
            "20 day input [0.17051972 0.16320601 0.16363181 0.1636819  0.17092048 0.17204759\n",
            " 0.1636819  0.16588604 0.15769568 0.14875391 0.14444584 0.13918597\n",
            " 0.13720726 0.13259862 0.1323732  0.13119599 0.15902317 0.17016907\n",
            " 0.16974327 0.17282405 0.16546024 0.16418284 0.16235441 0.1702943\n",
            " 0.17392611 0.16350657 0.15479023 0.15539136 0.16518472 0.16458359\n",
            " 0.15539136 0.15143394 0.14396994 0.13332498 0.14001252 0.14529743\n",
            " 0.1459737  0.14116468 0.14958046 0.14875391 0.14108954 0.13139637\n",
            " 0.12673763 0.14053851 0.12944271 0.11994991 0.1096556  0.1208516\n",
            " 0.13212273 0.13470257 0.14311835 0.14662492 0.15524108 0.1587226\n",
            " 0.16839073 0.17001879 0.17222292 0.1806387  0.17765811 0.16974327\n",
            " 0.16899186 0.17933626 0.17087038 0.16278021 0.16355667 0.15842204\n",
            " 0.14755166 0.15233563 0.1591985  0.1463995  0.14584847 0.15168441\n",
            " 0.15125861 0.14922981 0.13763306 0.14036318 0.12513463 0.12455855\n",
            " 0.14226675 0.12726362 0.13574091 0.13418493 0.13324448 0.13278334\n",
            " 0.13264845 0.13271546 0.13289842 0.13314441 0.13342349 0.13371983\n",
            " 0.1340251  0.13433443 0.13464448 0.13495243 0.13525568 0.1355519\n",
            " 0.13583916 0.13611582 0.13638079 0.13663338]\n",
            "20 day output [[0.1368732]]\n",
            "21 day input [0.16320601 0.16363181 0.1636819  0.17092048 0.17204759 0.1636819\n",
            " 0.16588604 0.15769568 0.14875391 0.14444584 0.13918597 0.13720726\n",
            " 0.13259862 0.1323732  0.13119599 0.15902317 0.17016907 0.16974327\n",
            " 0.17282405 0.16546024 0.16418284 0.16235441 0.1702943  0.17392611\n",
            " 0.16350657 0.15479023 0.15539136 0.16518472 0.16458359 0.15539136\n",
            " 0.15143394 0.14396994 0.13332498 0.14001252 0.14529743 0.1459737\n",
            " 0.14116468 0.14958046 0.14875391 0.14108954 0.13139637 0.12673763\n",
            " 0.14053851 0.12944271 0.11994991 0.1096556  0.1208516  0.13212273\n",
            " 0.13470257 0.14311835 0.14662492 0.15524108 0.1587226  0.16839073\n",
            " 0.17001879 0.17222292 0.1806387  0.17765811 0.16974327 0.16899186\n",
            " 0.17933626 0.17087038 0.16278021 0.16355667 0.15842204 0.14755166\n",
            " 0.15233563 0.1591985  0.1463995  0.14584847 0.15168441 0.15125861\n",
            " 0.14922981 0.13763306 0.14036318 0.12513463 0.12455855 0.14226675\n",
            " 0.12726362 0.13574091 0.13418493 0.13324448 0.13278334 0.13264845\n",
            " 0.13271546 0.13289842 0.13314441 0.13342349 0.13371983 0.1340251\n",
            " 0.13433443 0.13464448 0.13495243 0.13525568 0.1355519  0.13583916\n",
            " 0.13611582 0.13638079 0.13663338 0.1368732 ]\n",
            "21 day output [[0.13710026]]\n",
            "22 day input [0.16363181 0.1636819  0.17092048 0.17204759 0.1636819  0.16588604\n",
            " 0.15769568 0.14875391 0.14444584 0.13918597 0.13720726 0.13259862\n",
            " 0.1323732  0.13119599 0.15902317 0.17016907 0.16974327 0.17282405\n",
            " 0.16546024 0.16418284 0.16235441 0.1702943  0.17392611 0.16350657\n",
            " 0.15479023 0.15539136 0.16518472 0.16458359 0.15539136 0.15143394\n",
            " 0.14396994 0.13332498 0.14001252 0.14529743 0.1459737  0.14116468\n",
            " 0.14958046 0.14875391 0.14108954 0.13139637 0.12673763 0.14053851\n",
            " 0.12944271 0.11994991 0.1096556  0.1208516  0.13212273 0.13470257\n",
            " 0.14311835 0.14662492 0.15524108 0.1587226  0.16839073 0.17001879\n",
            " 0.17222292 0.1806387  0.17765811 0.16974327 0.16899186 0.17933626\n",
            " 0.17087038 0.16278021 0.16355667 0.15842204 0.14755166 0.15233563\n",
            " 0.1591985  0.1463995  0.14584847 0.15168441 0.15125861 0.14922981\n",
            " 0.13763306 0.14036318 0.12513463 0.12455855 0.14226675 0.12726362\n",
            " 0.13574091 0.13418493 0.13324448 0.13278334 0.13264845 0.13271546\n",
            " 0.13289842 0.13314441 0.13342349 0.13371983 0.1340251  0.13433443\n",
            " 0.13464448 0.13495243 0.13525568 0.1355519  0.13583916 0.13611582\n",
            " 0.13638079 0.13663338 0.1368732  0.13710026]\n",
            "22 day output [[0.13731487]]\n",
            "23 day input [0.1636819  0.17092048 0.17204759 0.1636819  0.16588604 0.15769568\n",
            " 0.14875391 0.14444584 0.13918597 0.13720726 0.13259862 0.1323732\n",
            " 0.13119599 0.15902317 0.17016907 0.16974327 0.17282405 0.16546024\n",
            " 0.16418284 0.16235441 0.1702943  0.17392611 0.16350657 0.15479023\n",
            " 0.15539136 0.16518472 0.16458359 0.15539136 0.15143394 0.14396994\n",
            " 0.13332498 0.14001252 0.14529743 0.1459737  0.14116468 0.14958046\n",
            " 0.14875391 0.14108954 0.13139637 0.12673763 0.14053851 0.12944271\n",
            " 0.11994991 0.1096556  0.1208516  0.13212273 0.13470257 0.14311835\n",
            " 0.14662492 0.15524108 0.1587226  0.16839073 0.17001879 0.17222292\n",
            " 0.1806387  0.17765811 0.16974327 0.16899186 0.17933626 0.17087038\n",
            " 0.16278021 0.16355667 0.15842204 0.14755166 0.15233563 0.1591985\n",
            " 0.1463995  0.14584847 0.15168441 0.15125861 0.14922981 0.13763306\n",
            " 0.14036318 0.12513463 0.12455855 0.14226675 0.12726362 0.13574091\n",
            " 0.13418493 0.13324448 0.13278334 0.13264845 0.13271546 0.13289842\n",
            " 0.13314441 0.13342349 0.13371983 0.1340251  0.13433443 0.13464448\n",
            " 0.13495243 0.13525568 0.1355519  0.13583916 0.13611582 0.13638079\n",
            " 0.13663338 0.1368732  0.13710026 0.13731487]\n",
            "23 day output [[0.13751742]]\n",
            "24 day input [0.17092048 0.17204759 0.1636819  0.16588604 0.15769568 0.14875391\n",
            " 0.14444584 0.13918597 0.13720726 0.13259862 0.1323732  0.13119599\n",
            " 0.15902317 0.17016907 0.16974327 0.17282405 0.16546024 0.16418284\n",
            " 0.16235441 0.1702943  0.17392611 0.16350657 0.15479023 0.15539136\n",
            " 0.16518472 0.16458359 0.15539136 0.15143394 0.14396994 0.13332498\n",
            " 0.14001252 0.14529743 0.1459737  0.14116468 0.14958046 0.14875391\n",
            " 0.14108954 0.13139637 0.12673763 0.14053851 0.12944271 0.11994991\n",
            " 0.1096556  0.1208516  0.13212273 0.13470257 0.14311835 0.14662492\n",
            " 0.15524108 0.1587226  0.16839073 0.17001879 0.17222292 0.1806387\n",
            " 0.17765811 0.16974327 0.16899186 0.17933626 0.17087038 0.16278021\n",
            " 0.16355667 0.15842204 0.14755166 0.15233563 0.1591985  0.1463995\n",
            " 0.14584847 0.15168441 0.15125861 0.14922981 0.13763306 0.14036318\n",
            " 0.12513463 0.12455855 0.14226675 0.12726362 0.13574091 0.13418493\n",
            " 0.13324448 0.13278334 0.13264845 0.13271546 0.13289842 0.13314441\n",
            " 0.13342349 0.13371983 0.1340251  0.13433443 0.13464448 0.13495243\n",
            " 0.13525568 0.1355519  0.13583916 0.13611582 0.13638079 0.13663338\n",
            " 0.1368732  0.13710026 0.13731487 0.13751742]\n",
            "24 day output [[0.13770851]]\n",
            "25 day input [0.17204759 0.1636819  0.16588604 0.15769568 0.14875391 0.14444584\n",
            " 0.13918597 0.13720726 0.13259862 0.1323732  0.13119599 0.15902317\n",
            " 0.17016907 0.16974327 0.17282405 0.16546024 0.16418284 0.16235441\n",
            " 0.1702943  0.17392611 0.16350657 0.15479023 0.15539136 0.16518472\n",
            " 0.16458359 0.15539136 0.15143394 0.14396994 0.13332498 0.14001252\n",
            " 0.14529743 0.1459737  0.14116468 0.14958046 0.14875391 0.14108954\n",
            " 0.13139637 0.12673763 0.14053851 0.12944271 0.11994991 0.1096556\n",
            " 0.1208516  0.13212273 0.13470257 0.14311835 0.14662492 0.15524108\n",
            " 0.1587226  0.16839073 0.17001879 0.17222292 0.1806387  0.17765811\n",
            " 0.16974327 0.16899186 0.17933626 0.17087038 0.16278021 0.16355667\n",
            " 0.15842204 0.14755166 0.15233563 0.1591985  0.1463995  0.14584847\n",
            " 0.15168441 0.15125861 0.14922981 0.13763306 0.14036318 0.12513463\n",
            " 0.12455855 0.14226675 0.12726362 0.13574091 0.13418493 0.13324448\n",
            " 0.13278334 0.13264845 0.13271546 0.13289842 0.13314441 0.13342349\n",
            " 0.13371983 0.1340251  0.13433443 0.13464448 0.13495243 0.13525568\n",
            " 0.1355519  0.13583916 0.13611582 0.13638079 0.13663338 0.1368732\n",
            " 0.13710026 0.13731487 0.13751742 0.13770851]\n",
            "25 day output [[0.13788892]]\n",
            "26 day input [0.1636819  0.16588604 0.15769568 0.14875391 0.14444584 0.13918597\n",
            " 0.13720726 0.13259862 0.1323732  0.13119599 0.15902317 0.17016907\n",
            " 0.16974327 0.17282405 0.16546024 0.16418284 0.16235441 0.1702943\n",
            " 0.17392611 0.16350657 0.15479023 0.15539136 0.16518472 0.16458359\n",
            " 0.15539136 0.15143394 0.14396994 0.13332498 0.14001252 0.14529743\n",
            " 0.1459737  0.14116468 0.14958046 0.14875391 0.14108954 0.13139637\n",
            " 0.12673763 0.14053851 0.12944271 0.11994991 0.1096556  0.1208516\n",
            " 0.13212273 0.13470257 0.14311835 0.14662492 0.15524108 0.1587226\n",
            " 0.16839073 0.17001879 0.17222292 0.1806387  0.17765811 0.16974327\n",
            " 0.16899186 0.17933626 0.17087038 0.16278021 0.16355667 0.15842204\n",
            " 0.14755166 0.15233563 0.1591985  0.1463995  0.14584847 0.15168441\n",
            " 0.15125861 0.14922981 0.13763306 0.14036318 0.12513463 0.12455855\n",
            " 0.14226675 0.12726362 0.13574091 0.13418493 0.13324448 0.13278334\n",
            " 0.13264845 0.13271546 0.13289842 0.13314441 0.13342349 0.13371983\n",
            " 0.1340251  0.13433443 0.13464448 0.13495243 0.13525568 0.1355519\n",
            " 0.13583916 0.13611582 0.13638079 0.13663338 0.1368732  0.13710026\n",
            " 0.13731487 0.13751742 0.13770851 0.13788892]\n",
            "26 day output [[0.13805941]]\n",
            "27 day input [0.16588604 0.15769568 0.14875391 0.14444584 0.13918597 0.13720726\n",
            " 0.13259862 0.1323732  0.13119599 0.15902317 0.17016907 0.16974327\n",
            " 0.17282405 0.16546024 0.16418284 0.16235441 0.1702943  0.17392611\n",
            " 0.16350657 0.15479023 0.15539136 0.16518472 0.16458359 0.15539136\n",
            " 0.15143394 0.14396994 0.13332498 0.14001252 0.14529743 0.1459737\n",
            " 0.14116468 0.14958046 0.14875391 0.14108954 0.13139637 0.12673763\n",
            " 0.14053851 0.12944271 0.11994991 0.1096556  0.1208516  0.13212273\n",
            " 0.13470257 0.14311835 0.14662492 0.15524108 0.1587226  0.16839073\n",
            " 0.17001879 0.17222292 0.1806387  0.17765811 0.16974327 0.16899186\n",
            " 0.17933626 0.17087038 0.16278021 0.16355667 0.15842204 0.14755166\n",
            " 0.15233563 0.1591985  0.1463995  0.14584847 0.15168441 0.15125861\n",
            " 0.14922981 0.13763306 0.14036318 0.12513463 0.12455855 0.14226675\n",
            " 0.12726362 0.13574091 0.13418493 0.13324448 0.13278334 0.13264845\n",
            " 0.13271546 0.13289842 0.13314441 0.13342349 0.13371983 0.1340251\n",
            " 0.13433443 0.13464448 0.13495243 0.13525568 0.1355519  0.13583916\n",
            " 0.13611582 0.13638079 0.13663338 0.1368732  0.13710026 0.13731487\n",
            " 0.13751742 0.13770851 0.13788892 0.13805941]\n",
            "27 day output [[0.1382208]]\n",
            "28 day input [0.15769568 0.14875391 0.14444584 0.13918597 0.13720726 0.13259862\n",
            " 0.1323732  0.13119599 0.15902317 0.17016907 0.16974327 0.17282405\n",
            " 0.16546024 0.16418284 0.16235441 0.1702943  0.17392611 0.16350657\n",
            " 0.15479023 0.15539136 0.16518472 0.16458359 0.15539136 0.15143394\n",
            " 0.14396994 0.13332498 0.14001252 0.14529743 0.1459737  0.14116468\n",
            " 0.14958046 0.14875391 0.14108954 0.13139637 0.12673763 0.14053851\n",
            " 0.12944271 0.11994991 0.1096556  0.1208516  0.13212273 0.13470257\n",
            " 0.14311835 0.14662492 0.15524108 0.1587226  0.16839073 0.17001879\n",
            " 0.17222292 0.1806387  0.17765811 0.16974327 0.16899186 0.17933626\n",
            " 0.17087038 0.16278021 0.16355667 0.15842204 0.14755166 0.15233563\n",
            " 0.1591985  0.1463995  0.14584847 0.15168441 0.15125861 0.14922981\n",
            " 0.13763306 0.14036318 0.12513463 0.12455855 0.14226675 0.12726362\n",
            " 0.13574091 0.13418493 0.13324448 0.13278334 0.13264845 0.13271546\n",
            " 0.13289842 0.13314441 0.13342349 0.13371983 0.1340251  0.13433443\n",
            " 0.13464448 0.13495243 0.13525568 0.1355519  0.13583916 0.13611582\n",
            " 0.13638079 0.13663338 0.1368732  0.13710026 0.13731487 0.13751742\n",
            " 0.13770851 0.13788892 0.13805941 0.1382208 ]\n",
            "28 day output [[0.13837402]]\n",
            "29 day input [0.14875391 0.14444584 0.13918597 0.13720726 0.13259862 0.1323732\n",
            " 0.13119599 0.15902317 0.17016907 0.16974327 0.17282405 0.16546024\n",
            " 0.16418284 0.16235441 0.1702943  0.17392611 0.16350657 0.15479023\n",
            " 0.15539136 0.16518472 0.16458359 0.15539136 0.15143394 0.14396994\n",
            " 0.13332498 0.14001252 0.14529743 0.1459737  0.14116468 0.14958046\n",
            " 0.14875391 0.14108954 0.13139637 0.12673763 0.14053851 0.12944271\n",
            " 0.11994991 0.1096556  0.1208516  0.13212273 0.13470257 0.14311835\n",
            " 0.14662492 0.15524108 0.1587226  0.16839073 0.17001879 0.17222292\n",
            " 0.1806387  0.17765811 0.16974327 0.16899186 0.17933626 0.17087038\n",
            " 0.16278021 0.16355667 0.15842204 0.14755166 0.15233563 0.1591985\n",
            " 0.1463995  0.14584847 0.15168441 0.15125861 0.14922981 0.13763306\n",
            " 0.14036318 0.12513463 0.12455855 0.14226675 0.12726362 0.13574091\n",
            " 0.13418493 0.13324448 0.13278334 0.13264845 0.13271546 0.13289842\n",
            " 0.13314441 0.13342349 0.13371983 0.1340251  0.13433443 0.13464448\n",
            " 0.13495243 0.13525568 0.1355519  0.13583916 0.13611582 0.13638079\n",
            " 0.13663338 0.1368732  0.13710026 0.13731487 0.13751742 0.13770851\n",
            " 0.13788892 0.13805941 0.1382208  0.13837402]\n",
            "29 day output [[0.1385198]]\n",
            "[[0.13574090600013733], [0.13418492674827576], [0.13324448466300964], [0.13278333842754364], [0.13264845311641693], [0.13271546363830566], [0.13289842009544373], [0.13314440846443176], [0.13342349231243134], [0.13371983170509338], [0.13402509689331055], [0.13433443009853363], [0.13464447855949402], [0.13495242595672607], [0.13525567948818207], [0.13555189967155457], [0.13583916425704956], [0.13611581921577454], [0.13638079166412354], [0.13663338124752045], [0.13687320053577423], [0.13710026443004608], [0.13731487095355988], [0.13751742243766785], [0.13770851492881775], [0.13788892328739166], [0.13805940747261047], [0.13822080194950104], [0.13837401568889618], [0.1385197937488556]]\n"
          ]
        }
      ],
      "source": [
        "# demonstrate prediction for next 10 days\n",
        "from numpy import array\n",
        "\n",
        "lst_output=[]\n",
        "n_steps=100\n",
        "i=0\n",
        "while(i<30):\n",
        "    \n",
        "    if(len(temp_input)>100):\n",
        "        #print(temp_input)\n",
        "        x_input=np.array(temp_input[1:])\n",
        "        print(\"{} day input {}\".format(i,x_input))\n",
        "        x_input=x_input.reshape(1,-1)\n",
        "        x_input = x_input.reshape((1, n_steps, 1))\n",
        "        #print(x_input)\n",
        "        yhat = model.predict(x_input, verbose=0)\n",
        "        print(\"{} day output {}\".format(i,yhat))\n",
        "        temp_input.extend(yhat[0].tolist())\n",
        "        temp_input=temp_input[1:]\n",
        "        #print(temp_input)\n",
        "        lst_output.extend(yhat.tolist())\n",
        "        i=i+1\n",
        "    else:\n",
        "        x_input = x_input.reshape((1, n_steps,1))\n",
        "        yhat = model.predict(x_input, verbose=0)\n",
        "        print(yhat[0])\n",
        "        temp_input.extend(yhat[0].tolist())\n",
        "        print(len(temp_input))\n",
        "        lst_output.extend(yhat.tolist())\n",
        "        i=i+1\n",
        "    \n",
        "\n",
        "print(lst_output)"
      ]
    },
    {
      "cell_type": "code",
      "execution_count": null,
      "metadata": {
        "colab": {
          "base_uri": "https://localhost:8080/"
        },
        "id": "gUE2MVYXHeeo",
        "outputId": "3d0d719c-f201-45fd-c7c6-6cb1762cd9ba"
      },
      "outputs": [
        {
          "data": {
            "text/plain": [
              "1260"
            ]
          },
          "execution_count": 21,
          "metadata": {},
          "output_type": "execute_result"
        }
      ],
      "source": [
        "day_new=np.arange(1,101)\n",
        "day_pred=np.arange(101,131)\n",
        "import matplotlib.pyplot as plt\n",
        "len(df1)"
      ]
    },
    {
      "cell_type": "code",
      "execution_count": null,
      "metadata": {
        "colab": {
          "base_uri": "https://localhost:8080/",
          "height": 582
        },
        "id": "cgamp34AHkgm",
        "outputId": "12b7b7cd-ac57-4fc8-90f6-b6e3c3ba7b0a"
      },
      "outputs": [
        {
          "ename": "ValueError",
          "evalue": "ignored",
          "output_type": "error",
          "traceback": [
            "\u001b[0;31m---------------------------------------------------------------------------\u001b[0m",
            "\u001b[0;31mValueError\u001b[0m                                Traceback (most recent call last)",
            "\u001b[0;32m<ipython-input-34-f7a6cd20cb29>\u001b[0m in \u001b[0;36m<module>\u001b[0;34m()\u001b[0m\n\u001b[0;32m----> 1\u001b[0;31m \u001b[0mplt\u001b[0m\u001b[0;34m.\u001b[0m\u001b[0mplot\u001b[0m\u001b[0;34m(\u001b[0m\u001b[0mday_new\u001b[0m\u001b[0;34m,\u001b[0m\u001b[0mscaler\u001b[0m\u001b[0;34m.\u001b[0m\u001b[0minverse_transform\u001b[0m\u001b[0;34m(\u001b[0m\u001b[0mdf1\u001b[0m\u001b[0;34m[\u001b[0m\u001b[0;36m1158\u001b[0m\u001b[0;34m:\u001b[0m\u001b[0;34m]\u001b[0m\u001b[0;34m)\u001b[0m\u001b[0;34m)\u001b[0m\u001b[0;34m\u001b[0m\u001b[0;34m\u001b[0m\u001b[0m\n\u001b[0m\u001b[1;32m      2\u001b[0m \u001b[0mplt\u001b[0m\u001b[0;34m.\u001b[0m\u001b[0mplot\u001b[0m\u001b[0;34m(\u001b[0m\u001b[0mday_pred\u001b[0m\u001b[0;34m,\u001b[0m\u001b[0mscaler\u001b[0m\u001b[0;34m.\u001b[0m\u001b[0minverse_transform\u001b[0m\u001b[0;34m(\u001b[0m\u001b[0mlst_output\u001b[0m\u001b[0;34m)\u001b[0m\u001b[0;34m)\u001b[0m\u001b[0;34m\u001b[0m\u001b[0;34m\u001b[0m\u001b[0m\n",
            "\u001b[0;32m/usr/local/lib/python3.7/dist-packages/matplotlib/pyplot.py\u001b[0m in \u001b[0;36mplot\u001b[0;34m(scalex, scaley, data, *args, **kwargs)\u001b[0m\n\u001b[1;32m   2761\u001b[0m     return gca().plot(\n\u001b[1;32m   2762\u001b[0m         *args, scalex=scalex, scaley=scaley, **({\"data\": data} if data\n\u001b[0;32m-> 2763\u001b[0;31m         is not None else {}), **kwargs)\n\u001b[0m\u001b[1;32m   2764\u001b[0m \u001b[0;34m\u001b[0m\u001b[0m\n\u001b[1;32m   2765\u001b[0m \u001b[0;34m\u001b[0m\u001b[0m\n",
            "\u001b[0;32m/usr/local/lib/python3.7/dist-packages/matplotlib/axes/_axes.py\u001b[0m in \u001b[0;36mplot\u001b[0;34m(self, scalex, scaley, data, *args, **kwargs)\u001b[0m\n\u001b[1;32m   1645\u001b[0m         \"\"\"\n\u001b[1;32m   1646\u001b[0m         \u001b[0mkwargs\u001b[0m \u001b[0;34m=\u001b[0m \u001b[0mcbook\u001b[0m\u001b[0;34m.\u001b[0m\u001b[0mnormalize_kwargs\u001b[0m\u001b[0;34m(\u001b[0m\u001b[0mkwargs\u001b[0m\u001b[0;34m,\u001b[0m \u001b[0mmlines\u001b[0m\u001b[0;34m.\u001b[0m\u001b[0mLine2D\u001b[0m\u001b[0;34m)\u001b[0m\u001b[0;34m\u001b[0m\u001b[0;34m\u001b[0m\u001b[0m\n\u001b[0;32m-> 1647\u001b[0;31m         \u001b[0mlines\u001b[0m \u001b[0;34m=\u001b[0m \u001b[0;34m[\u001b[0m\u001b[0;34m*\u001b[0m\u001b[0mself\u001b[0m\u001b[0;34m.\u001b[0m\u001b[0m_get_lines\u001b[0m\u001b[0;34m(\u001b[0m\u001b[0;34m*\u001b[0m\u001b[0margs\u001b[0m\u001b[0;34m,\u001b[0m \u001b[0mdata\u001b[0m\u001b[0;34m=\u001b[0m\u001b[0mdata\u001b[0m\u001b[0;34m,\u001b[0m \u001b[0;34m**\u001b[0m\u001b[0mkwargs\u001b[0m\u001b[0;34m)\u001b[0m\u001b[0;34m]\u001b[0m\u001b[0;34m\u001b[0m\u001b[0;34m\u001b[0m\u001b[0m\n\u001b[0m\u001b[1;32m   1648\u001b[0m         \u001b[0;32mfor\u001b[0m \u001b[0mline\u001b[0m \u001b[0;32min\u001b[0m \u001b[0mlines\u001b[0m\u001b[0;34m:\u001b[0m\u001b[0;34m\u001b[0m\u001b[0;34m\u001b[0m\u001b[0m\n\u001b[1;32m   1649\u001b[0m             \u001b[0mself\u001b[0m\u001b[0;34m.\u001b[0m\u001b[0madd_line\u001b[0m\u001b[0;34m(\u001b[0m\u001b[0mline\u001b[0m\u001b[0;34m)\u001b[0m\u001b[0;34m\u001b[0m\u001b[0;34m\u001b[0m\u001b[0m\n",
            "\u001b[0;32m/usr/local/lib/python3.7/dist-packages/matplotlib/axes/_base.py\u001b[0m in \u001b[0;36m__call__\u001b[0;34m(self, *args, **kwargs)\u001b[0m\n\u001b[1;32m    214\u001b[0m                 \u001b[0mthis\u001b[0m \u001b[0;34m+=\u001b[0m \u001b[0margs\u001b[0m\u001b[0;34m[\u001b[0m\u001b[0;36m0\u001b[0m\u001b[0;34m]\u001b[0m\u001b[0;34m,\u001b[0m\u001b[0;34m\u001b[0m\u001b[0;34m\u001b[0m\u001b[0m\n\u001b[1;32m    215\u001b[0m                 \u001b[0margs\u001b[0m \u001b[0;34m=\u001b[0m \u001b[0margs\u001b[0m\u001b[0;34m[\u001b[0m\u001b[0;36m1\u001b[0m\u001b[0;34m:\u001b[0m\u001b[0;34m]\u001b[0m\u001b[0;34m\u001b[0m\u001b[0;34m\u001b[0m\u001b[0m\n\u001b[0;32m--> 216\u001b[0;31m             \u001b[0;32myield\u001b[0m \u001b[0;32mfrom\u001b[0m \u001b[0mself\u001b[0m\u001b[0;34m.\u001b[0m\u001b[0m_plot_args\u001b[0m\u001b[0;34m(\u001b[0m\u001b[0mthis\u001b[0m\u001b[0;34m,\u001b[0m \u001b[0mkwargs\u001b[0m\u001b[0;34m)\u001b[0m\u001b[0;34m\u001b[0m\u001b[0;34m\u001b[0m\u001b[0m\n\u001b[0m\u001b[1;32m    217\u001b[0m \u001b[0;34m\u001b[0m\u001b[0m\n\u001b[1;32m    218\u001b[0m     \u001b[0;32mdef\u001b[0m \u001b[0mget_next_color\u001b[0m\u001b[0;34m(\u001b[0m\u001b[0mself\u001b[0m\u001b[0;34m)\u001b[0m\u001b[0;34m:\u001b[0m\u001b[0;34m\u001b[0m\u001b[0;34m\u001b[0m\u001b[0m\n",
            "\u001b[0;32m/usr/local/lib/python3.7/dist-packages/matplotlib/axes/_base.py\u001b[0m in \u001b[0;36m_plot_args\u001b[0;34m(self, tup, kwargs)\u001b[0m\n\u001b[1;32m    340\u001b[0m \u001b[0;34m\u001b[0m\u001b[0m\n\u001b[1;32m    341\u001b[0m         \u001b[0;32mif\u001b[0m \u001b[0mx\u001b[0m\u001b[0;34m.\u001b[0m\u001b[0mshape\u001b[0m\u001b[0;34m[\u001b[0m\u001b[0;36m0\u001b[0m\u001b[0;34m]\u001b[0m \u001b[0;34m!=\u001b[0m \u001b[0my\u001b[0m\u001b[0;34m.\u001b[0m\u001b[0mshape\u001b[0m\u001b[0;34m[\u001b[0m\u001b[0;36m0\u001b[0m\u001b[0;34m]\u001b[0m\u001b[0;34m:\u001b[0m\u001b[0;34m\u001b[0m\u001b[0;34m\u001b[0m\u001b[0m\n\u001b[0;32m--> 342\u001b[0;31m             raise ValueError(f\"x and y must have same first dimension, but \"\n\u001b[0m\u001b[1;32m    343\u001b[0m                              f\"have shapes {x.shape} and {y.shape}\")\n\u001b[1;32m    344\u001b[0m         \u001b[0;32mif\u001b[0m \u001b[0mx\u001b[0m\u001b[0;34m.\u001b[0m\u001b[0mndim\u001b[0m \u001b[0;34m>\u001b[0m \u001b[0;36m2\u001b[0m \u001b[0;32mor\u001b[0m \u001b[0my\u001b[0m\u001b[0;34m.\u001b[0m\u001b[0mndim\u001b[0m \u001b[0;34m>\u001b[0m \u001b[0;36m2\u001b[0m\u001b[0;34m:\u001b[0m\u001b[0;34m\u001b[0m\u001b[0;34m\u001b[0m\u001b[0m\n",
            "\u001b[0;31mValueError\u001b[0m: x and y must have same first dimension, but have shapes (100,) and (102, 1)"
          ]
        },
        {
          "data": {
            "image/png": "[encoded data removed]",
            "text/plain": [
              "<Figure size 432x288 with 1 Axes>"
            ]
          },
          "metadata": {},
          "output_type": "display_data"
        }
      ],
      "source": [
        "plt.plot(day_new,scaler.inverse_transform(df1[1158:]))\n",
        "plt.plot(day_pred,scaler.inverse_transform(lst_output))"
      ]
    },
    {
      "cell_type": "code",
      "execution_count": null,
      "metadata": {
        "colab": {
          "base_uri": "https://localhost:8080/",
          "height": 282
        },
        "id": "pXFYM9xJHnqs",
        "outputId": "dd61d6be-2cad-4ffb-f39b-b010be202328"
      },
      "outputs": [
        {
          "data": {
            "text/plain": [
              "[<matplotlib.lines.Line2D at 0x7fca5c9f3610>]"
            ]
          },
          "execution_count": 24,
          "metadata": {},
          "output_type": "execute_result"
        },
        {
          "data": {
            "image/png": "[encoded data removed]",
            "text/plain": [
              "<Figure size 432x288 with 1 Axes>"
            ]
          },
          "metadata": {},
          "output_type": "display_data"
        }
      ],
      "source": [
        "df3=df1.tolist()\n",
        "df3.extend(lst_output)\n",
        "plt.plot(df3[1200:])"
      ]
    },
    {
      "cell_type": "code",
      "execution_count": null,
      "metadata": {
        "colab": {
          "base_uri": "https://localhost:8080/",
          "height": 282
        },
        "id": "64Aldd8QHsCs",
        "outputId": "ab3309ea-b2f8-4551-e1d3-94cc9fe41644"
      },
      "outputs": [
        {
          "data": {
            "text/plain": [
              "[<matplotlib.lines.Line2D at 0x7fca586b2e10>]"
            ]
          },
          "execution_count": 25,
          "metadata": {},
          "output_type": "execute_result"
        },
        {
          "data": {
            "image/png": "[encoded data removed]",
            "text/plain": [
              "<Figure size 432x288 with 1 Axes>"
            ]
          },
          "metadata": {},
          "output_type": "display_data"
        }
      ],
      "source": [
        "df3=scaler.inverse_transform(df3).tolist()\n",
        "plt.plot(df3)"
      ]
    }
  ],
  "metadata": {
    "colab": {
      "collapsed_sections": [],
      "name": "Stock price prediction.ipynb",
      "provenance": [],
      "toc_visible": true
    },
    "kernelspec": {
      "display_name": "Python 3",
      "name": "python3"
    },
    "language_info": {
      "name": "python"
    }
  },
  "nbformat": 4,
  "nbformat_minor": 0
}